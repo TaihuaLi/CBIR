{
 "cells": [
  {
   "cell_type": "code",
   "execution_count": 1,
   "metadata": {},
   "outputs": [
    {
     "name": "stdout",
     "output_type": "stream",
     "text": [
      "/Users/taihuali/Desktop/DePaul/CSC528ComputerVision/FinalProject\n"
     ]
    }
   ],
   "source": [
    "cd ~/Desktop/DePaul/CSC528ComputerVision/FinalProject"
   ]
  },
  {
   "cell_type": "code",
   "execution_count": 2,
   "metadata": {
    "collapsed": true
   },
   "outputs": [],
   "source": [
    "import numpy as np \n",
    "import pandas as pd \n",
    "import os, dicom, fnmatch\n",
    "from scipy.misc import imsave\n",
    "import matplotlib.pyplot as plt\n",
    "%matplotlib inline"
   ]
  },
  {
   "cell_type": "code",
   "execution_count": 3,
   "metadata": {
    "collapsed": true
   },
   "outputs": [],
   "source": [
    "allslices = pd.read_csv('parsedXMLnew.csv')"
   ]
  },
  {
   "cell_type": "code",
   "execution_count": 4,
   "metadata": {
    "collapsed": true
   },
   "outputs": [],
   "source": [
    "def getDicom(directory):\n",
    "    matches = []\n",
    "    for root, dirnames, filenames in os.walk(directory):\n",
    "        for filename in fnmatch.filter(filenames, '*.dcm'):\n",
    "            matches.append(os.path.join(root, filename))\n",
    "    return matches"
   ]
  },
  {
   "cell_type": "code",
   "execution_count": 5,
   "metadata": {},
   "outputs": [
    {
     "data": {
      "text/plain": [
       "'LIDC-IDRI/LIDC-IDRI-0001/1.3.6.1.4.1.14519.5.2.1.6279.6001.298806137288633453246975630178/1.3.6.1.4.1.14519.5.2.1.6279.6001.179049373636438705059720603192/000001.dcm'"
      ]
     },
     "execution_count": 5,
     "metadata": {},
     "output_type": "execute_result"
    }
   ],
   "source": [
    "dcm_images = getDicom('LIDC-IDRI/')\n",
    "dcm_images[0]"
   ]
  },
  {
   "cell_type": "code",
   "execution_count": 7,
   "metadata": {
    "scrolled": true
   },
   "outputs": [],
   "source": [
    "with_nodule = 0\n",
    "no_nodule = 0\n",
    "labeled = []\n",
    "\n",
    "for dcm in dcm_images:\n",
    "    temp = [dcm]\n",
    "    dicom_file = dicom.read_file(dcm)\n",
    "    image = dicom_file.pixel_array\n",
    "    # plt.imshow(image, cmap='gray')\n",
    "    # plt.show()\n",
    "    # find the slice that contains nodule\n",
    "    if dicom_file.SOPInstanceUID in allslices['imageSOP_UID'].values:\n",
    "        with_nodule+=1\n",
    "        coords = allslices[allslices['imageSOP_UID'] == dicom_file.SOPInstanceUID]['coords']\n",
    "        if coords.shape[0] == 1:\n",
    "            coord = [x.split(';') for x in coords.values[0].split('|') if len(x)>2]\n",
    "            coord = np.array(coord).astype('int')\n",
    "        else:\n",
    "            coord = [x.split(';') for x in coords.values[0].split('|') if len(x)>2]\n",
    "            coord = np.array(coord).astype('int')\n",
    "        left = coord.T[0].min() # left\n",
    "        right = coord.T[0].max() # right\n",
    "        top = coord.T[1].min() # top\n",
    "        bottom = coord.T[1].max() # bottom\n",
    "        nodule_patch = image[top:bottom, left:right]\n",
    "        imsave(dcm.replace('.dcm', '.jpg'), nodule_patch)\n",
    "        temp.append(1)\n",
    "    else:\n",
    "        no_nodule += 1\n",
    "        temp.append(0)\n",
    "    labeled.append(temp)"
   ]
  },
  {
   "cell_type": "code",
   "execution_count": 8,
   "metadata": {},
   "outputs": [
    {
     "data": {
      "text/html": [
       "<div>\n",
       "<table border=\"1\" class=\"dataframe\">\n",
       "  <thead>\n",
       "    <tr style=\"text-align: right;\">\n",
       "      <th></th>\n",
       "      <th>Image</th>\n",
       "      <th>Label</th>\n",
       "    </tr>\n",
       "  </thead>\n",
       "  <tbody>\n",
       "    <tr>\n",
       "      <th>0</th>\n",
       "      <td>LIDC-IDRI/LIDC-IDRI-0001/1.3.6.1.4.1.14519.5.2...</td>\n",
       "      <td>0</td>\n",
       "    </tr>\n",
       "    <tr>\n",
       "      <th>1</th>\n",
       "      <td>LIDC-IDRI/LIDC-IDRI-0001/1.3.6.1.4.1.14519.5.2...</td>\n",
       "      <td>0</td>\n",
       "    </tr>\n",
       "    <tr>\n",
       "      <th>2</th>\n",
       "      <td>LIDC-IDRI/LIDC-IDRI-0001/1.3.6.1.4.1.14519.5.2...</td>\n",
       "      <td>1</td>\n",
       "    </tr>\n",
       "    <tr>\n",
       "      <th>3</th>\n",
       "      <td>LIDC-IDRI/LIDC-IDRI-0001/1.3.6.1.4.1.14519.5.2...</td>\n",
       "      <td>0</td>\n",
       "    </tr>\n",
       "    <tr>\n",
       "      <th>4</th>\n",
       "      <td>LIDC-IDRI/LIDC-IDRI-0001/1.3.6.1.4.1.14519.5.2...</td>\n",
       "      <td>0</td>\n",
       "    </tr>\n",
       "  </tbody>\n",
       "</table>\n",
       "</div>"
      ],
      "text/plain": [
       "                                               Image  Label\n",
       "0  LIDC-IDRI/LIDC-IDRI-0001/1.3.6.1.4.1.14519.5.2...      0\n",
       "1  LIDC-IDRI/LIDC-IDRI-0001/1.3.6.1.4.1.14519.5.2...      0\n",
       "2  LIDC-IDRI/LIDC-IDRI-0001/1.3.6.1.4.1.14519.5.2...      1\n",
       "3  LIDC-IDRI/LIDC-IDRI-0001/1.3.6.1.4.1.14519.5.2...      0\n",
       "4  LIDC-IDRI/LIDC-IDRI-0001/1.3.6.1.4.1.14519.5.2...      0"
      ]
     },
     "execution_count": 8,
     "metadata": {},
     "output_type": "execute_result"
    }
   ],
   "source": [
    "labeled = pd.DataFrame(labeled, columns=['Image', 'Label'])\n",
    "labeled.head()"
   ]
  },
  {
   "cell_type": "code",
   "execution_count": 9,
   "metadata": {
    "collapsed": true
   },
   "outputs": [],
   "source": [
    "writer = pd.ExcelWriter('LIDC_Label.xlsx')\n",
    "labeled.to_excel(writer, 'sheet1', index=False)\n",
    "writer.save()"
   ]
  },
  {
   "cell_type": "code",
   "execution_count": 10,
   "metadata": {},
   "outputs": [
    {
     "name": "stdout",
     "output_type": "stream",
     "text": [
      "in total: 1852 images\n",
      "137 images have nodules and 1715 do not\n"
     ]
    }
   ],
   "source": [
    "print 'in total: {} images'.format(len(dcm_images))\n",
    "print '{} images have nodules and {} do not'.format(with_nodule, no_nodule)"
   ]
  }
 ],
 "metadata": {
  "kernelspec": {
   "display_name": "Python 2",
   "language": "python",
   "name": "python2"
  },
  "language_info": {
   "codemirror_mode": {
    "name": "ipython",
    "version": 2
   },
   "file_extension": ".py",
   "mimetype": "text/x-python",
   "name": "python",
   "nbconvert_exporter": "python",
   "pygments_lexer": "ipython2",
   "version": "2.7.13"
  }
 },
 "nbformat": 4,
 "nbformat_minor": 2
}
