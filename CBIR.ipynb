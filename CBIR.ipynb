{
 "cells": [
  {
   "cell_type": "code",
   "execution_count": 1,
   "metadata": {},
   "outputs": [
    {
     "name": "stderr",
     "output_type": "stream",
     "text": [
      "/anaconda/envs/python3/lib/python3.6/site-packages/sklearn/cross_validation.py:44: DeprecationWarning: This module was deprecated in version 0.18 in favor of the model_selection module into which all the refactored classes and functions are moved. Also note that the interface of the new CV iterators are different from that of this module. This module will be removed in 0.20.\n",
      "  \"This module will be removed in 0.20.\", DeprecationWarning)\n",
      "/anaconda/envs/python3/lib/python3.6/site-packages/sklearn/grid_search.py:43: DeprecationWarning: This module was deprecated in version 0.18 in favor of the model_selection module into which all the refactored classes and functions are moved. This module will be removed in 0.20.\n",
      "  DeprecationWarning)\n"
     ]
    }
   ],
   "source": [
    "import numpy as np \n",
    "import pandas as pd\n",
    "import os, dicom, fnmatch, random, time, cv2\n",
    "\n",
    "from sklearn import svm\n",
    "from sklearn.metrics import precision_score, recall_score\n",
    "from sklearn.cluster import KMeans\n",
    "from scipy.spatial.distance import cityblock\n",
    "from scipy.spatial.distance import euclidean\n",
    "from scipy.stats import entropy \n",
    "\n",
    "from sklearn.grid_search import GridSearchCV\n",
    "from sklearn.model_selection import cross_val_score\n",
    "\n",
    "import matplotlib.pyplot as plt\n",
    "%matplotlib inline"
   ]
  },
  {
   "cell_type": "code",
   "execution_count": 2,
   "metadata": {
    "collapsed": true
   },
   "outputs": [],
   "source": [
    "def chisquaredist(array1, array2):\n",
    "    if len(array1) != len(array2):\n",
    "        raise ValueError('Input arrays need to be the same size.')\n",
    "    return sum([ ( (array1[i] - array2[i]) ** 2 ) / (array1[i] + array2[i]) for i in range(len(array1))])\n",
    "\n",
    "def getFile(directory, ftype):\n",
    "    matches = []\n",
    "    for root, dirnames, filenames in os.walk(directory):\n",
    "        for filename in fnmatch.filter(filenames, '*.'+ftype):\n",
    "            matches.append(os.path.join(root, filename))\n",
    "    return matches\n",
    "\n",
    "def evalClustering(data, min_clust=2, max_clust=31):\n",
    "    sil_score = []\n",
    "    for n in range(min_clust, max_clust):\n",
    "        kmeans = KMeans(n_clusters = n, random_state = 10)\n",
    "        clt_lab = kmeans.fit_predict(data)\n",
    "        sil_avg = silhouette_score(data, clt_lab)\n",
    "        print('for {} clusters, sil score is {}'.format(n, sil_avg))\n",
    "        sil_score.append(sil_avg)\n",
    "    \n",
    "    plt.plot(range(min_clust, max_clust), sil_score)\n",
    "    plt.title('Average Silhouette Score Scree Plot', fontsize=14)\n",
    "    ax = plt.axes()\n",
    "    ax.set_xticks(range(min_clust, max_clust, round((max_clust-min_clust)/10)))\n",
    "    ax.set_xlabel('Number of clusters (K)')\n",
    "    ax.set_ylabel('Average Silhouette Score')\n",
    "    return sil_score\n",
    "\n",
    "def transformImg(features, centers):\n",
    "    '''\n",
    "    * features is a dictionary\n",
    "    * centers is np array\n",
    "    '''\n",
    "    img_hist = {}\n",
    "    for i in features:\n",
    "        hist = np.zeros(len(centers))\n",
    "        feat = features[i]['features']\n",
    "        for f in feat:\n",
    "            temp_sim = []\n",
    "            for center in centers:\n",
    "                temp_sim.append(euclidean(f, center))\n",
    "            hist[temp_sim.index(max(temp_sim))] += 1\n",
    "        img_hist[i] = hist\n",
    "    return img_hist\n",
    "\n",
    "def retrieve(train, test, labels):\n",
    "    '''\n",
    "    input two histogram represented dataset\n",
    "    output L1, chi, kL results\n",
    "    '''\n",
    "    L1_results = {}\n",
    "    chi_results = {}\n",
    "    KL_results = {}\n",
    "    for i in [1, 0]:\n",
    "        L1_results[i] = []\n",
    "        chi_results[i] = []\n",
    "        KL_results[i] = []\n",
    "    db_labels = [int(labels[labels.Image == i].Label) for i in train]\n",
    "    for i in test:\n",
    "        L1_r = []\n",
    "        chi_r = []\n",
    "        KL_r = []\n",
    "        for j in train:\n",
    "            query_hist = test[i]\n",
    "            db_hist = train[j]\n",
    "            L1_r.append(cityblock(query_hist, db_hist))\n",
    "            chi_r.append(chisquaredist(query_hist, db_hist))\n",
    "            KL_r.append(entropy(query_hist, db_hist))\n",
    "        L1_output = [x for (y, x) in sorted(zip(L1_r, db_labels))]\n",
    "        chi_output = [x for (y, x) in sorted(zip(chi_r, db_labels))]\n",
    "        KL_output = [x for (y, x) in sorted(zip([1 if x == float('inf') else x for x in KL_r], db_labels))]\n",
    "        \n",
    "        curr_label = int(labels[labels.Image == i].Label)\n",
    "        L1_results[curr_label].append(L1_output)\n",
    "        chi_results[curr_label].append(chi_output)\n",
    "        KL_results[curr_label].append(KL_output)\n",
    "        \n",
    "    return L1_results, chi_results, KL_results\n",
    "\n",
    "def evaluate(d):\n",
    "    MAP = {}\n",
    "    MAR = {}\n",
    "    for i in d:\n",
    "        MAP[i], MAR[i] = [], []\n",
    "    for i in d:\n",
    "        map_temp = []\n",
    "        mar_temp = []\n",
    "        for j in d[i]:\n",
    "            tp, fp, temp_pre, temp_rec = 0, 0, [], []\n",
    "            for out in j:\n",
    "                if out == i:\n",
    "                    tp += 1\n",
    "                else:\n",
    "                    fp += 1\n",
    "                temp_pre.append(tp/(tp+fp))\n",
    "                temp_rec.append(tp/len(j))\n",
    "            map_temp.append(mean(temp_pre))\n",
    "            mar_temp.append(mean(temp_rec))\n",
    "        MAP[i] = mean(map_temp)\n",
    "        MAR[i] = mean(mar_temp)\n",
    "    return MAP, MAR\n",
    "\n",
    "def displayResults(P, R):\n",
    "    to_display, p, r = [], [], []\n",
    "    for (k, v), (k2, v2) in zip(P.items(), R.items()):\n",
    "        to_display.append([k, v, v2])\n",
    "        p.append(v)\n",
    "        r.append(v2)\n",
    "    to_display.append(['Average', mean(p), mean(r)])\n",
    "    return pd.DataFrame(to_display, columns=['Type', 'Precision', 'Recall'])\n",
    "\n",
    "def mean(arr):\n",
    "    return sum(arr)/len(arr)"
   ]
  },
  {
   "cell_type": "code",
   "execution_count": 3,
   "metadata": {},
   "outputs": [],
   "source": [
    "labels = pd.read_excel('LIDC_Label.xlsx')\n",
    "with_nod = labels[labels.Label == 1]\n",
    "without_nod = labels[labels.Label == 0]"
   ]
  },
  {
   "cell_type": "code",
   "execution_count": 4,
   "metadata": {},
   "outputs": [
    {
     "name": "stdout",
     "output_type": "stream",
     "text": [
      "883\n",
      "9469\n"
     ]
    }
   ],
   "source": [
    "print(with_nod.shape[0])\n",
    "print(without_nod.shape[0])"
   ]
  },
  {
   "cell_type": "markdown",
   "metadata": {},
   "source": [
    "#### Split training (70%) and query/testing (30%)"
   ]
  },
  {
   "cell_type": "code",
   "execution_count": 5,
   "metadata": {},
   "outputs": [
    {
     "name": "stdout",
     "output_type": "stream",
     "text": [
      "618\n",
      "265\n"
     ]
    }
   ],
   "source": [
    "train = round(with_nod.shape[0]*0.7)\n",
    "print(train)\n",
    "print(with_nod.shape[0]-train)"
   ]
  },
  {
   "cell_type": "code",
   "execution_count": 6,
   "metadata": {
    "collapsed": true
   },
   "outputs": [],
   "source": [
    "nod = with_nod.Image.values\n",
    "no_nod = without_nod.Image.values"
   ]
  },
  {
   "cell_type": "code",
   "execution_count": 7,
   "metadata": {},
   "outputs": [],
   "source": [
    "nod_train = random.sample(list(nod), 618)\n",
    "nod_query = random.sample(list(set(nod) - set(nod_train)), 265)"
   ]
  },
  {
   "cell_type": "code",
   "execution_count": 8,
   "metadata": {},
   "outputs": [
    {
     "name": "stdout",
     "output_type": "stream",
     "text": [
      "883\n"
     ]
    }
   ],
   "source": [
    "print(len(set(nod_train))+ len(set(nod_query)))"
   ]
  },
  {
   "cell_type": "markdown",
   "metadata": {},
   "source": [
    "### Save params"
   ]
  },
  {
   "cell_type": "code",
   "execution_count": 9,
   "metadata": {
    "collapsed": true
   },
   "outputs": [],
   "source": [
    "np.save(\"var/nod_train.npy\", nod_train)\n",
    "np.save('var/nod_query.npy', nod_query)"
   ]
  },
  {
   "cell_type": "code",
   "execution_count": 10,
   "metadata": {
    "collapsed": true
   },
   "outputs": [],
   "source": [
    "nod_train = np.load(\"var/nod_train.npy\")\n",
    "nod_query = np.load('var/nod_query.npy')"
   ]
  },
  {
   "cell_type": "code",
   "execution_count": 11,
   "metadata": {},
   "outputs": [
    {
     "name": "stdout",
     "output_type": "stream",
     "text": [
      "900\n"
     ]
    }
   ],
   "source": [
    "no_nod_subset = []\n",
    "by_patient = {}\n",
    "for dcm in no_nod:\n",
    "    if dcm[20:24] not in by_patient:\n",
    "        by_patient[dcm[20:24]] = []\n",
    "        by_patient[dcm[20:24]].append(dcm)\n",
    "    else:\n",
    "        by_patient[dcm[20:24]].append(dcm)\n",
    "for i in by_patient:\n",
    "    no_nod_subset+= random.sample(by_patient[i], 15)\n",
    "print(len(no_nod_subset))"
   ]
  },
  {
   "cell_type": "code",
   "execution_count": 12,
   "metadata": {},
   "outputs": [
    {
     "data": {
      "text/plain": [
       "'LIDC-IDRI/LIDC-IDRI-0001/1.3.6.1.4.1.14519.5.2.1.6279.6001.298806137288633453246975630178/1.3.6.1.4.1.14519.5.2.1.6279.6001.179049373636438705059720603192/000006.dcm'"
      ]
     },
     "execution_count": 12,
     "metadata": {},
     "output_type": "execute_result"
    }
   ],
   "source": [
    "no_nod_subset[0]"
   ]
  },
  {
   "cell_type": "code",
   "execution_count": 13,
   "metadata": {},
   "outputs": [],
   "source": [
    "no_nod_subset_train = random.sample(no_nod_subset, 618)\n",
    "no_nod_subset_query = random.sample(list(set(no_nod_subset) - set(no_nod_subset_train)), 900-618)"
   ]
  },
  {
   "cell_type": "markdown",
   "metadata": {},
   "source": [
    "### Save params"
   ]
  },
  {
   "cell_type": "code",
   "execution_count": 14,
   "metadata": {
    "collapsed": true
   },
   "outputs": [],
   "source": [
    "np.save('var/no_nod_subset.npy', no_nod_subset)\n",
    "np.save(\"var/no_nod_subset_train.npy\", no_nod_subset_train)\n",
    "np.save('var/no_nod_subset_query.npy', no_nod_subset_query)"
   ]
  },
  {
   "cell_type": "code",
   "execution_count": 15,
   "metadata": {
    "collapsed": true
   },
   "outputs": [],
   "source": [
    "no_nod_subset = np.load('var/no_nod_subset.npy')\n",
    "no_nod_subset_train = np.load('var/no_nod_subset_train.npy')\n",
    "no_nod_subset_query = np.load('var/no_nod_subset_query.npy')"
   ]
  },
  {
   "cell_type": "code",
   "execution_count": 16,
   "metadata": {},
   "outputs": [
    {
     "name": "stdout",
     "output_type": "stream",
     "text": [
      "900\n"
     ]
    }
   ],
   "source": [
    "print(len(set(no_nod_subset_train))+len(set(no_nod_subset_query)))"
   ]
  },
  {
   "cell_type": "code",
   "execution_count": 17,
   "metadata": {},
   "outputs": [
    {
     "name": "stdout",
     "output_type": "stream",
     "text": [
      "Nodule training: 618\n",
      "Nodule query: 265\n",
      "No nodule training: 618\n",
      "No nodule query: 282\n"
     ]
    }
   ],
   "source": [
    "print(\"Nodule training: {}\".format(len(nod_train)))\n",
    "print(\"Nodule query: {}\".format(len(nod_query)))\n",
    "print(\"No nodule training: {}\".format(len(no_nod_subset_train)))\n",
    "print(\"No nodule query: {}\".format(len(no_nod_subset_query)))"
   ]
  },
  {
   "cell_type": "code",
   "execution_count": 18,
   "metadata": {
    "collapsed": true
   },
   "outputs": [],
   "source": [
    "nod_train = [x.replace('.dcm', '.jpg') for x in nod_train]"
   ]
  },
  {
   "cell_type": "code",
   "execution_count": 19,
   "metadata": {},
   "outputs": [],
   "source": [
    "train = [x.replace('.jpg', '.dcm') for x in nod_train] + list(no_nod_subset_train)\n",
    "query = list(nod_query) + list(no_nod_subset_query)"
   ]
  },
  {
   "cell_type": "markdown",
   "metadata": {},
   "source": [
    "### Save params"
   ]
  },
  {
   "cell_type": "code",
   "execution_count": 20,
   "metadata": {
    "collapsed": true
   },
   "outputs": [],
   "source": [
    "np.save('var/train.npy', train)\n",
    "np.save('var/query.npy', query)"
   ]
  },
  {
   "cell_type": "code",
   "execution_count": 21,
   "metadata": {
    "collapsed": true
   },
   "outputs": [],
   "source": [
    "train = np.load('var/train.npy')\n",
    "query = np.load('var/query.npy')"
   ]
  },
  {
   "cell_type": "markdown",
   "metadata": {},
   "source": [
    "#### Generate SIFT"
   ]
  },
  {
   "cell_type": "markdown",
   "metadata": {},
   "source": [
    "##### With nodules"
   ]
  },
  {
   "cell_type": "code",
   "execution_count": 22,
   "metadata": {},
   "outputs": [
    {
     "data": {
      "text/plain": [
       "<matplotlib.image.AxesImage at 0x1233aa780>"
      ]
     },
     "execution_count": 22,
     "metadata": {},
     "output_type": "execute_result"
    },
    {
     "data": {
      "image/png": "[encoded data removed]",
      "text/plain": [
       "<matplotlib.figure.Figure at 0x1188a2630>"
      ]
     },
     "metadata": {},
     "output_type": "display_data"
    }
   ],
   "source": [
    "plt.imshow(cv2.cvtColor(cv2.imread(nod_train[0]), cv2.COLOR_BGR2GRAY), cmap='gray')"
   ]
  },
  {
   "cell_type": "code",
   "execution_count": 23,
   "metadata": {},
   "outputs": [
    {
     "name": "stdout",
     "output_type": "stream",
     "text": [
      "Time taken: 0.6353788375854492 seconds\n"
     ]
    }
   ],
   "source": [
    "start = time.time()\n",
    "SIFT = {}\n",
    "for nod in nod_train:\n",
    "    image = cv2.cvtColor(cv2.imread(nod), cv2.COLOR_BGR2GRAY)\n",
    "    sift = cv2.xfeatures2d.SIFT_create(nfeatures = 400)\n",
    "    kp, feat = sift.detectAndCompute(image, None)\n",
    "    SIFT[nod] = {}\n",
    "    SIFT[nod]['keypoints'] = kp\n",
    "    SIFT[nod]['features'] = feat\n",
    "end = time.time()\n",
    "print('Time taken: {} seconds'.format(end-start))"
   ]
  },
  {
   "cell_type": "markdown",
   "metadata": {},
   "source": [
    "##### Without nodules"
   ]
  },
  {
   "cell_type": "code",
   "execution_count": 24,
   "metadata": {},
   "outputs": [
    {
     "name": "stdout",
     "output_type": "stream",
     "text": [
      "Time taken: 82.42260885238647 seconds\n"
     ]
    }
   ],
   "source": [
    "start = time.time()\n",
    "for dcm in no_nod_subset_train:\n",
    "    dicom_file = dicom.read_file(dcm)\n",
    "    CT = 255-cv2.convertScaleAbs(dicom_file.pixel_array)\n",
    "    sift = cv2.xfeatures2d.SIFT_create(nfeatures = 400)\n",
    "    kp, feat = sift.detectAndCompute(np.uint8(CT), None)\n",
    "    SIFT[dcm] = {}\n",
    "    SIFT[dcm]['keypoints'] = kp\n",
    "    SIFT[dcm]['features'] = feat\n",
    "end = time.time()\n",
    "print('Time taken: {} seconds'.format(end-start))"
   ]
  },
  {
   "cell_type": "markdown",
   "metadata": {},
   "source": [
    "##### Aggregate"
   ]
  },
  {
   "cell_type": "code",
   "execution_count": 25,
   "metadata": {
    "collapsed": true,
    "scrolled": true
   },
   "outputs": [],
   "source": [
    "SIFT_feat = np.empty((1, 128))\n",
    "no_SIFT_feat = 0\n",
    "no_SIFT_slices = []\n",
    "for i in SIFT:\n",
    "    try:\n",
    "        SIFT_feat = np.concatenate([SIFT_feat, SIFT[i]['features']])\n",
    "    except:\n",
    "        no_SIFT_slices.append(i)\n",
    "        no_SIFT_feat+=1\n",
    "        continue\n",
    "SIFT_feat = np.delete(SIFT_feat, 0, 0)"
   ]
  },
  {
   "cell_type": "code",
   "execution_count": 26,
   "metadata": {},
   "outputs": [
    {
     "name": "stdout",
     "output_type": "stream",
     "text": [
      "223 nodules do not have SIFT features.\n"
     ]
    }
   ],
   "source": [
    "print('{} nodules do not have SIFT features.'.format(no_SIFT_feat))"
   ]
  },
  {
   "cell_type": "code",
   "execution_count": 27,
   "metadata": {},
   "outputs": [
    {
     "data": {
      "text/plain": [
       "(248641, 128)"
      ]
     },
     "execution_count": 27,
     "metadata": {},
     "output_type": "execute_result"
    }
   ],
   "source": [
    "SIFT_feat.shape"
   ]
  },
  {
   "cell_type": "code",
   "execution_count": 28,
   "metadata": {
    "collapsed": true
   },
   "outputs": [],
   "source": [
    "np.savetxt('to_clust.csv', SIFT_feat, delimiter = ',')"
   ]
  },
  {
   "cell_type": "markdown",
   "metadata": {},
   "source": [
    "### All training and query images (whole CT scans for those having nodules)"
   ]
  },
  {
   "cell_type": "code",
   "execution_count": 29,
   "metadata": {},
   "outputs": [
    {
     "name": "stdout",
     "output_type": "stream",
     "text": [
      "Time taken: 167.334734916687 seconds\n"
     ]
    }
   ],
   "source": [
    "train_images = {}\n",
    "start = time.time()\n",
    "for dcm in train:\n",
    "    dicom_file = dicom.read_file(dcm)\n",
    "    CT = 255-cv2.convertScaleAbs(dicom_file.pixel_array)\n",
    "    sift = cv2.xfeatures2d.SIFT_create(nfeatures = 400)\n",
    "    kp, feat = sift.detectAndCompute(np.uint8(CT), None)\n",
    "    train_images[dcm] = {}\n",
    "    train_images[dcm]['keypoints'] = kp\n",
    "    train_images[dcm]['features'] = feat\n",
    "end = time.time()\n",
    "print('Time taken: {} seconds'.format(end-start))"
   ]
  },
  {
   "cell_type": "code",
   "execution_count": 30,
   "metadata": {},
   "outputs": [
    {
     "data": {
      "text/plain": [
       "1236"
      ]
     },
     "execution_count": 30,
     "metadata": {},
     "output_type": "execute_result"
    }
   ],
   "source": [
    "len(train_images.keys())"
   ]
  },
  {
   "cell_type": "code",
   "execution_count": 31,
   "metadata": {},
   "outputs": [
    {
     "name": "stdout",
     "output_type": "stream",
     "text": [
      "Time taken: 74.74520993232727 seconds\n"
     ]
    }
   ],
   "source": [
    "query_images = {}\n",
    "start = time.time()\n",
    "for dcm in query:\n",
    "    dicom_file = dicom.read_file(dcm)\n",
    "    CT = 255-cv2.convertScaleAbs(dicom_file.pixel_array)\n",
    "    sift = cv2.xfeatures2d.SIFT_create(nfeatures = 400)\n",
    "    kp, feat = sift.detectAndCompute(np.uint8(CT), None)\n",
    "    query_images[dcm] = {}\n",
    "    query_images[dcm]['keypoints'] = kp\n",
    "    query_images[dcm]['features'] = feat\n",
    "end = time.time()\n",
    "print('Time taken: {} seconds'.format(end-start))"
   ]
  },
  {
   "cell_type": "code",
   "execution_count": 32,
   "metadata": {},
   "outputs": [
    {
     "data": {
      "text/plain": [
       "547"
      ]
     },
     "execution_count": 32,
     "metadata": {},
     "output_type": "execute_result"
    }
   ],
   "source": [
    "len(query_images.keys())"
   ]
  },
  {
   "cell_type": "markdown",
   "metadata": {},
   "source": [
    "### Cluster Center From Spark"
   ]
  },
  {
   "cell_type": "code",
   "execution_count": 33,
   "metadata": {
    "collapsed": true
   },
   "outputs": [],
   "source": [
    "centers = np.load('var/cluster_centers.npy')"
   ]
  },
  {
   "cell_type": "markdown",
   "metadata": {},
   "source": [
    "### Transform Images"
   ]
  },
  {
   "cell_type": "code",
   "execution_count": 34,
   "metadata": {},
   "outputs": [
    {
     "name": "stdout",
     "output_type": "stream",
     "text": [
      "Time taken 814.671407699585\n"
     ]
    }
   ],
   "source": [
    "start = time.time()\n",
    "database = transformImg(train_images, centers)\n",
    "end = time.time()\n",
    "print('Time taken {}'.format(end-start))"
   ]
  },
  {
   "cell_type": "code",
   "execution_count": 35,
   "metadata": {},
   "outputs": [
    {
     "data": {
      "text/plain": [
       "1236"
      ]
     },
     "execution_count": 35,
     "metadata": {},
     "output_type": "execute_result"
    }
   ],
   "source": [
    "len(database.keys())"
   ]
  },
  {
   "cell_type": "code",
   "execution_count": 36,
   "metadata": {},
   "outputs": [
    {
     "name": "stdout",
     "output_type": "stream",
     "text": [
      "Time taken 355.2191731929779\n"
     ]
    }
   ],
   "source": [
    "start = time.time()\n",
    "queryHist = transformImg(query_images, centers)\n",
    "end = time.time()\n",
    "print('Time taken {}'.format(end-start))"
   ]
  },
  {
   "cell_type": "code",
   "execution_count": 37,
   "metadata": {},
   "outputs": [
    {
     "data": {
      "text/plain": [
       "547"
      ]
     },
     "execution_count": 37,
     "metadata": {},
     "output_type": "execute_result"
    }
   ],
   "source": [
    "len(queryHist.keys())"
   ]
  },
  {
   "cell_type": "code",
   "execution_count": 38,
   "metadata": {},
   "outputs": [
    {
     "name": "stderr",
     "output_type": "stream",
     "text": [
      "/anaconda/envs/python3/lib/python3.6/site-packages/ipykernel_launcher.py:4: RuntimeWarning: invalid value encountered in double_scalars\n",
      "  after removing the cwd from sys.path.\n"
     ]
    }
   ],
   "source": [
    "L1_labels, chi_labels, KL_labels = retrieve(database, queryHist, labels)"
   ]
  },
  {
   "cell_type": "code",
   "execution_count": 39,
   "metadata": {
    "collapsed": true
   },
   "outputs": [],
   "source": [
    "L1_MAP, L1_MAR = evaluate(L1_labels)\n",
    "chi_MAP, chi_MAR = evaluate(chi_labels)\n",
    "KL_MAP, KL_MAR = evaluate(KL_labels)"
   ]
  },
  {
   "cell_type": "code",
   "execution_count": 40,
   "metadata": {},
   "outputs": [
    {
     "data": {
      "text/html": [
       "<div>\n",
       "<style>\n",
       "    .dataframe thead tr:only-child th {\n",
       "        text-align: right;\n",
       "    }\n",
       "\n",
       "    .dataframe thead th {\n",
       "        text-align: left;\n",
       "    }\n",
       "\n",
       "    .dataframe tbody tr th {\n",
       "        vertical-align: top;\n",
       "    }\n",
       "</style>\n",
       "<table border=\"1\" class=\"dataframe\">\n",
       "  <thead>\n",
       "    <tr style=\"text-align: right;\">\n",
       "      <th></th>\n",
       "      <th>Type</th>\n",
       "      <th>Precision</th>\n",
       "      <th>Recall</th>\n",
       "    </tr>\n",
       "  </thead>\n",
       "  <tbody>\n",
       "    <tr>\n",
       "      <th>0</th>\n",
       "      <td>1</td>\n",
       "      <td>0.572496</td>\n",
       "      <td>0.281010</td>\n",
       "    </tr>\n",
       "    <tr>\n",
       "      <th>1</th>\n",
       "      <td>0</td>\n",
       "      <td>0.510164</td>\n",
       "      <td>0.245664</td>\n",
       "    </tr>\n",
       "    <tr>\n",
       "      <th>2</th>\n",
       "      <td>Average</td>\n",
       "      <td>0.541330</td>\n",
       "      <td>0.263337</td>\n",
       "    </tr>\n",
       "  </tbody>\n",
       "</table>\n",
       "</div>"
      ],
      "text/plain": [
       "      Type  Precision    Recall\n",
       "0        1   0.572496  0.281010\n",
       "1        0   0.510164  0.245664\n",
       "2  Average   0.541330  0.263337"
      ]
     },
     "execution_count": 40,
     "metadata": {},
     "output_type": "execute_result"
    }
   ],
   "source": [
    "displayResults(L1_MAP, L1_MAR)"
   ]
  },
  {
   "cell_type": "code",
   "execution_count": 41,
   "metadata": {},
   "outputs": [
    {
     "data": {
      "text/html": [
       "<div>\n",
       "<style>\n",
       "    .dataframe thead tr:only-child th {\n",
       "        text-align: right;\n",
       "    }\n",
       "\n",
       "    .dataframe thead th {\n",
       "        text-align: left;\n",
       "    }\n",
       "\n",
       "    .dataframe tbody tr th {\n",
       "        vertical-align: top;\n",
       "    }\n",
       "</style>\n",
       "<table border=\"1\" class=\"dataframe\">\n",
       "  <thead>\n",
       "    <tr style=\"text-align: right;\">\n",
       "      <th></th>\n",
       "      <th>Type</th>\n",
       "      <th>Precision</th>\n",
       "      <th>Recall</th>\n",
       "    </tr>\n",
       "  </thead>\n",
       "  <tbody>\n",
       "    <tr>\n",
       "      <th>0</th>\n",
       "      <td>1</td>\n",
       "      <td>0.846371</td>\n",
       "      <td>0.375202</td>\n",
       "    </tr>\n",
       "    <tr>\n",
       "      <th>1</th>\n",
       "      <td>0</td>\n",
       "      <td>0.153629</td>\n",
       "      <td>0.125202</td>\n",
       "    </tr>\n",
       "    <tr>\n",
       "      <th>2</th>\n",
       "      <td>Average</td>\n",
       "      <td>0.500000</td>\n",
       "      <td>0.250202</td>\n",
       "    </tr>\n",
       "  </tbody>\n",
       "</table>\n",
       "</div>"
      ],
      "text/plain": [
       "      Type  Precision    Recall\n",
       "0        1   0.846371  0.375202\n",
       "1        0   0.153629  0.125202\n",
       "2  Average   0.500000  0.250202"
      ]
     },
     "execution_count": 41,
     "metadata": {},
     "output_type": "execute_result"
    }
   ],
   "source": [
    "displayResults(chi_MAP, chi_MAR)"
   ]
  },
  {
   "cell_type": "code",
   "execution_count": 42,
   "metadata": {},
   "outputs": [
    {
     "data": {
      "text/html": [
       "<div>\n",
       "<style>\n",
       "    .dataframe thead tr:only-child th {\n",
       "        text-align: right;\n",
       "    }\n",
       "\n",
       "    .dataframe thead th {\n",
       "        text-align: left;\n",
       "    }\n",
       "\n",
       "    .dataframe tbody tr th {\n",
       "        vertical-align: top;\n",
       "    }\n",
       "</style>\n",
       "<table border=\"1\" class=\"dataframe\">\n",
       "  <thead>\n",
       "    <tr style=\"text-align: right;\">\n",
       "      <th></th>\n",
       "      <th>Type</th>\n",
       "      <th>Precision</th>\n",
       "      <th>Recall</th>\n",
       "    </tr>\n",
       "  </thead>\n",
       "  <tbody>\n",
       "    <tr>\n",
       "      <th>0</th>\n",
       "      <td>1</td>\n",
       "      <td>0.263871</td>\n",
       "      <td>0.149033</td>\n",
       "    </tr>\n",
       "    <tr>\n",
       "      <th>1</th>\n",
       "      <td>0</td>\n",
       "      <td>0.747845</td>\n",
       "      <td>0.352101</td>\n",
       "    </tr>\n",
       "    <tr>\n",
       "      <th>2</th>\n",
       "      <td>Average</td>\n",
       "      <td>0.505858</td>\n",
       "      <td>0.250567</td>\n",
       "    </tr>\n",
       "  </tbody>\n",
       "</table>\n",
       "</div>"
      ],
      "text/plain": [
       "      Type  Precision    Recall\n",
       "0        1   0.263871  0.149033\n",
       "1        0   0.747845  0.352101\n",
       "2  Average   0.505858  0.250567"
      ]
     },
     "execution_count": 42,
     "metadata": {},
     "output_type": "execute_result"
    }
   ],
   "source": [
    "displayResults(KL_MAP, KL_MAR)"
   ]
  },
  {
   "cell_type": "markdown",
   "metadata": {
    "collapsed": true
   },
   "source": [
    "#### Try SVM"
   ]
  },
  {
   "cell_type": "code",
   "execution_count": 43,
   "metadata": {
    "collapsed": true
   },
   "outputs": [],
   "source": [
    "y = []\n",
    "for i in database:\n",
    "    y.append(int(labels[labels.Image == i].Label))"
   ]
  },
  {
   "cell_type": "markdown",
   "metadata": {},
   "source": [
    "'kernel': [\"linear\", \"rbf\"]"
   ]
  },
  {
   "cell_type": "markdown",
   "metadata": {},
   "source": [
    "## Linear Kernel"
   ]
  },
  {
   "cell_type": "code",
   "execution_count": 44,
   "metadata": {},
   "outputs": [
    {
     "name": "stdout",
     "output_type": "stream",
     "text": [
      "10-CV ROC: 0.6917010521323277\n",
      "10-CV prec: 0.6219733098796356\n",
      "10-CV rec: 0.7767318878900052\n"
     ]
    }
   ],
   "source": [
    "clf = svm.SVC(kernel = 'linear')\n",
    "roc_cv = cross_val_score(clf, np.array(list(database.values())), y, cv=10, scoring=\"roc_auc\")\n",
    "prec = cross_val_score(clf, np.array(list(database.values())), y, cv=10, scoring=\"precision\")\n",
    "rec = cross_val_score(clf, np.array(list(database.values())), y, cv=10, scoring=\"recall\")\n",
    "print('10-CV ROC: {}'.format(roc_cv.mean()))\n",
    "print('10-CV prec: {}'.format(prec.mean()))\n",
    "print('10-CV rec: {}'.format(rec.mean()))"
   ]
  },
  {
   "cell_type": "markdown",
   "metadata": {},
   "source": [
    "### Gaussian/RBF Kernle"
   ]
  },
  {
   "cell_type": "code",
   "execution_count": 45,
   "metadata": {
    "scrolled": true
   },
   "outputs": [
    {
     "name": "stderr",
     "output_type": "stream",
     "text": [
      "/anaconda/envs/python3/lib/python3.6/site-packages/sklearn/metrics/classification.py:1113: UndefinedMetricWarning: Precision is ill-defined and being set to 0.0 due to no predicted samples.\n",
      "  'precision', 'predicted', average, warn_for)\n",
      "/anaconda/envs/python3/lib/python3.6/site-packages/sklearn/metrics/classification.py:1113: UndefinedMetricWarning: Precision is ill-defined and being set to 0.0 due to no predicted samples.\n",
      "  'precision', 'predicted', average, warn_for)\n",
      "/anaconda/envs/python3/lib/python3.6/site-packages/sklearn/metrics/classification.py:1113: UndefinedMetricWarning: Precision is ill-defined and being set to 0.0 due to no predicted samples.\n",
      "  'precision', 'predicted', average, warn_for)\n",
      "/anaconda/envs/python3/lib/python3.6/site-packages/sklearn/metrics/classification.py:1113: UndefinedMetricWarning: Precision is ill-defined and being set to 0.0 due to no predicted samples.\n",
      "  'precision', 'predicted', average, warn_for)\n",
      "/anaconda/envs/python3/lib/python3.6/site-packages/sklearn/metrics/classification.py:1113: UndefinedMetricWarning: Precision is ill-defined and being set to 0.0 due to no predicted samples.\n",
      "  'precision', 'predicted', average, warn_for)\n",
      "/anaconda/envs/python3/lib/python3.6/site-packages/sklearn/metrics/classification.py:1113: UndefinedMetricWarning: Precision is ill-defined and being set to 0.0 due to no predicted samples.\n",
      "  'precision', 'predicted', average, warn_for)\n",
      "/anaconda/envs/python3/lib/python3.6/site-packages/sklearn/metrics/classification.py:1113: UndefinedMetricWarning: Precision is ill-defined and being set to 0.0 due to no predicted samples.\n",
      "  'precision', 'predicted', average, warn_for)\n",
      "/anaconda/envs/python3/lib/python3.6/site-packages/sklearn/metrics/classification.py:1113: UndefinedMetricWarning: Precision is ill-defined and being set to 0.0 due to no predicted samples.\n",
      "  'precision', 'predicted', average, warn_for)\n",
      "/anaconda/envs/python3/lib/python3.6/site-packages/sklearn/metrics/classification.py:1113: UndefinedMetricWarning: Precision is ill-defined and being set to 0.0 due to no predicted samples.\n",
      "  'precision', 'predicted', average, warn_for)\n",
      "/anaconda/envs/python3/lib/python3.6/site-packages/sklearn/metrics/classification.py:1113: UndefinedMetricWarning: Precision is ill-defined and being set to 0.0 due to no predicted samples.\n",
      "  'precision', 'predicted', average, warn_for)\n",
      "/anaconda/envs/python3/lib/python3.6/site-packages/sklearn/metrics/classification.py:1113: UndefinedMetricWarning: Precision is ill-defined and being set to 0.0 due to no predicted samples.\n",
      "  'precision', 'predicted', average, warn_for)\n",
      "/anaconda/envs/python3/lib/python3.6/site-packages/sklearn/metrics/classification.py:1113: UndefinedMetricWarning: Precision is ill-defined and being set to 0.0 due to no predicted samples.\n",
      "  'precision', 'predicted', average, warn_for)\n",
      "/anaconda/envs/python3/lib/python3.6/site-packages/sklearn/metrics/classification.py:1113: UndefinedMetricWarning: Precision is ill-defined and being set to 0.0 due to no predicted samples.\n",
      "  'precision', 'predicted', average, warn_for)\n",
      "/anaconda/envs/python3/lib/python3.6/site-packages/sklearn/metrics/classification.py:1113: UndefinedMetricWarning: Precision is ill-defined and being set to 0.0 due to no predicted samples.\n",
      "  'precision', 'predicted', average, warn_for)\n",
      "/anaconda/envs/python3/lib/python3.6/site-packages/sklearn/metrics/classification.py:1113: UndefinedMetricWarning: Precision is ill-defined and being set to 0.0 due to no predicted samples.\n",
      "  'precision', 'predicted', average, warn_for)\n",
      "/anaconda/envs/python3/lib/python3.6/site-packages/sklearn/metrics/classification.py:1113: UndefinedMetricWarning: Precision is ill-defined and being set to 0.0 due to no predicted samples.\n",
      "  'precision', 'predicted', average, warn_for)\n",
      "/anaconda/envs/python3/lib/python3.6/site-packages/sklearn/metrics/classification.py:1113: UndefinedMetricWarning: Precision is ill-defined and being set to 0.0 due to no predicted samples.\n",
      "  'precision', 'predicted', average, warn_for)\n",
      "/anaconda/envs/python3/lib/python3.6/site-packages/sklearn/metrics/classification.py:1113: UndefinedMetricWarning: Precision is ill-defined and being set to 0.0 due to no predicted samples.\n",
      "  'precision', 'predicted', average, warn_for)\n",
      "/anaconda/envs/python3/lib/python3.6/site-packages/sklearn/metrics/classification.py:1113: UndefinedMetricWarning: Precision is ill-defined and being set to 0.0 due to no predicted samples.\n",
      "  'precision', 'predicted', average, warn_for)\n",
      "/anaconda/envs/python3/lib/python3.6/site-packages/sklearn/metrics/classification.py:1113: UndefinedMetricWarning: Precision is ill-defined and being set to 0.0 due to no predicted samples.\n",
      "  'precision', 'predicted', average, warn_for)\n",
      "/anaconda/envs/python3/lib/python3.6/site-packages/sklearn/metrics/classification.py:1113: UndefinedMetricWarning: Precision is ill-defined and being set to 0.0 due to no predicted samples.\n",
      "  'precision', 'predicted', average, warn_for)\n",
      "/anaconda/envs/python3/lib/python3.6/site-packages/sklearn/metrics/classification.py:1113: UndefinedMetricWarning: Precision is ill-defined and being set to 0.0 due to no predicted samples.\n",
      "  'precision', 'predicted', average, warn_for)\n",
      "/anaconda/envs/python3/lib/python3.6/site-packages/sklearn/metrics/classification.py:1113: UndefinedMetricWarning: Precision is ill-defined and being set to 0.0 due to no predicted samples.\n",
      "  'precision', 'predicted', average, warn_for)\n",
      "/anaconda/envs/python3/lib/python3.6/site-packages/sklearn/metrics/classification.py:1113: UndefinedMetricWarning: Precision is ill-defined and being set to 0.0 due to no predicted samples.\n",
      "  'precision', 'predicted', average, warn_for)\n",
      "/anaconda/envs/python3/lib/python3.6/site-packages/sklearn/metrics/classification.py:1113: UndefinedMetricWarning: Precision is ill-defined and being set to 0.0 due to no predicted samples.\n",
      "  'precision', 'predicted', average, warn_for)\n",
      "/anaconda/envs/python3/lib/python3.6/site-packages/sklearn/metrics/classification.py:1113: UndefinedMetricWarning: Precision is ill-defined and being set to 0.0 due to no predicted samples.\n",
      "  'precision', 'predicted', average, warn_for)\n",
      "/anaconda/envs/python3/lib/python3.6/site-packages/sklearn/metrics/classification.py:1113: UndefinedMetricWarning: Precision is ill-defined and being set to 0.0 due to no predicted samples.\n",
      "  'precision', 'predicted', average, warn_for)\n",
      "/anaconda/envs/python3/lib/python3.6/site-packages/sklearn/metrics/classification.py:1113: UndefinedMetricWarning: Precision is ill-defined and being set to 0.0 due to no predicted samples.\n",
      "  'precision', 'predicted', average, warn_for)\n",
      "/anaconda/envs/python3/lib/python3.6/site-packages/sklearn/metrics/classification.py:1113: UndefinedMetricWarning: Precision is ill-defined and being set to 0.0 due to no predicted samples.\n",
      "  'precision', 'predicted', average, warn_for)\n",
      "/anaconda/envs/python3/lib/python3.6/site-packages/sklearn/metrics/classification.py:1113: UndefinedMetricWarning: Precision is ill-defined and being set to 0.0 due to no predicted samples.\n",
      "  'precision', 'predicted', average, warn_for)\n",
      "/anaconda/envs/python3/lib/python3.6/site-packages/sklearn/metrics/classification.py:1113: UndefinedMetricWarning: Precision is ill-defined and being set to 0.0 due to no predicted samples.\n",
      "  'precision', 'predicted', average, warn_for)\n",
      "/anaconda/envs/python3/lib/python3.6/site-packages/sklearn/metrics/classification.py:1113: UndefinedMetricWarning: Precision is ill-defined and being set to 0.0 due to no predicted samples.\n",
      "  'precision', 'predicted', average, warn_for)\n",
      "/anaconda/envs/python3/lib/python3.6/site-packages/sklearn/metrics/classification.py:1113: UndefinedMetricWarning: Precision is ill-defined and being set to 0.0 due to no predicted samples.\n",
      "  'precision', 'predicted', average, warn_for)\n",
      "/anaconda/envs/python3/lib/python3.6/site-packages/sklearn/metrics/classification.py:1113: UndefinedMetricWarning: Precision is ill-defined and being set to 0.0 due to no predicted samples.\n",
      "  'precision', 'predicted', average, warn_for)\n",
      "/anaconda/envs/python3/lib/python3.6/site-packages/sklearn/metrics/classification.py:1113: UndefinedMetricWarning: Precision is ill-defined and being set to 0.0 due to no predicted samples.\n",
      "  'precision', 'predicted', average, warn_for)\n"
     ]
    },
    {
     "name": "stderr",
     "output_type": "stream",
     "text": [
      "/anaconda/envs/python3/lib/python3.6/site-packages/sklearn/metrics/classification.py:1113: UndefinedMetricWarning: Precision is ill-defined and being set to 0.0 due to no predicted samples.\n",
      "  'precision', 'predicted', average, warn_for)\n",
      "/anaconda/envs/python3/lib/python3.6/site-packages/sklearn/metrics/classification.py:1113: UndefinedMetricWarning: Precision is ill-defined and being set to 0.0 due to no predicted samples.\n",
      "  'precision', 'predicted', average, warn_for)\n",
      "/anaconda/envs/python3/lib/python3.6/site-packages/sklearn/metrics/classification.py:1113: UndefinedMetricWarning: Precision is ill-defined and being set to 0.0 due to no predicted samples.\n",
      "  'precision', 'predicted', average, warn_for)\n",
      "/anaconda/envs/python3/lib/python3.6/site-packages/sklearn/metrics/classification.py:1113: UndefinedMetricWarning: Precision is ill-defined and being set to 0.0 due to no predicted samples.\n",
      "  'precision', 'predicted', average, warn_for)\n",
      "/anaconda/envs/python3/lib/python3.6/site-packages/sklearn/metrics/classification.py:1113: UndefinedMetricWarning: Precision is ill-defined and being set to 0.0 due to no predicted samples.\n",
      "  'precision', 'predicted', average, warn_for)\n",
      "/anaconda/envs/python3/lib/python3.6/site-packages/sklearn/metrics/classification.py:1113: UndefinedMetricWarning: Precision is ill-defined and being set to 0.0 due to no predicted samples.\n",
      "  'precision', 'predicted', average, warn_for)\n",
      "/anaconda/envs/python3/lib/python3.6/site-packages/sklearn/metrics/classification.py:1113: UndefinedMetricWarning: Precision is ill-defined and being set to 0.0 due to no predicted samples.\n",
      "  'precision', 'predicted', average, warn_for)\n",
      "/anaconda/envs/python3/lib/python3.6/site-packages/sklearn/metrics/classification.py:1113: UndefinedMetricWarning: Precision is ill-defined and being set to 0.0 due to no predicted samples.\n",
      "  'precision', 'predicted', average, warn_for)\n",
      "/anaconda/envs/python3/lib/python3.6/site-packages/sklearn/metrics/classification.py:1113: UndefinedMetricWarning: Precision is ill-defined and being set to 0.0 due to no predicted samples.\n",
      "  'precision', 'predicted', average, warn_for)\n",
      "/anaconda/envs/python3/lib/python3.6/site-packages/sklearn/metrics/classification.py:1113: UndefinedMetricWarning: Precision is ill-defined and being set to 0.0 due to no predicted samples.\n",
      "  'precision', 'predicted', average, warn_for)\n",
      "/anaconda/envs/python3/lib/python3.6/site-packages/sklearn/metrics/classification.py:1113: UndefinedMetricWarning: Precision is ill-defined and being set to 0.0 due to no predicted samples.\n",
      "  'precision', 'predicted', average, warn_for)\n",
      "/anaconda/envs/python3/lib/python3.6/site-packages/sklearn/metrics/classification.py:1113: UndefinedMetricWarning: Precision is ill-defined and being set to 0.0 due to no predicted samples.\n",
      "  'precision', 'predicted', average, warn_for)\n",
      "/anaconda/envs/python3/lib/python3.6/site-packages/sklearn/metrics/classification.py:1113: UndefinedMetricWarning: Precision is ill-defined and being set to 0.0 due to no predicted samples.\n",
      "  'precision', 'predicted', average, warn_for)\n",
      "/anaconda/envs/python3/lib/python3.6/site-packages/sklearn/metrics/classification.py:1113: UndefinedMetricWarning: Precision is ill-defined and being set to 0.0 due to no predicted samples.\n",
      "  'precision', 'predicted', average, warn_for)\n",
      "/anaconda/envs/python3/lib/python3.6/site-packages/sklearn/metrics/classification.py:1113: UndefinedMetricWarning: Precision is ill-defined and being set to 0.0 due to no predicted samples.\n",
      "  'precision', 'predicted', average, warn_for)\n",
      "/anaconda/envs/python3/lib/python3.6/site-packages/sklearn/metrics/classification.py:1113: UndefinedMetricWarning: Precision is ill-defined and being set to 0.0 due to no predicted samples.\n",
      "  'precision', 'predicted', average, warn_for)\n",
      "/anaconda/envs/python3/lib/python3.6/site-packages/sklearn/metrics/classification.py:1113: UndefinedMetricWarning: Precision is ill-defined and being set to 0.0 due to no predicted samples.\n",
      "  'precision', 'predicted', average, warn_for)\n",
      "/anaconda/envs/python3/lib/python3.6/site-packages/sklearn/metrics/classification.py:1113: UndefinedMetricWarning: Precision is ill-defined and being set to 0.0 due to no predicted samples.\n",
      "  'precision', 'predicted', average, warn_for)\n",
      "/anaconda/envs/python3/lib/python3.6/site-packages/sklearn/metrics/classification.py:1113: UndefinedMetricWarning: Precision is ill-defined and being set to 0.0 due to no predicted samples.\n",
      "  'precision', 'predicted', average, warn_for)\n",
      "/anaconda/envs/python3/lib/python3.6/site-packages/sklearn/metrics/classification.py:1113: UndefinedMetricWarning: Precision is ill-defined and being set to 0.0 due to no predicted samples.\n",
      "  'precision', 'predicted', average, warn_for)\n",
      "/anaconda/envs/python3/lib/python3.6/site-packages/sklearn/metrics/classification.py:1113: UndefinedMetricWarning: Precision is ill-defined and being set to 0.0 due to no predicted samples.\n",
      "  'precision', 'predicted', average, warn_for)\n",
      "/anaconda/envs/python3/lib/python3.6/site-packages/sklearn/metrics/classification.py:1113: UndefinedMetricWarning: Precision is ill-defined and being set to 0.0 due to no predicted samples.\n",
      "  'precision', 'predicted', average, warn_for)\n",
      "/anaconda/envs/python3/lib/python3.6/site-packages/sklearn/metrics/classification.py:1113: UndefinedMetricWarning: Precision is ill-defined and being set to 0.0 due to no predicted samples.\n",
      "  'precision', 'predicted', average, warn_for)\n",
      "/anaconda/envs/python3/lib/python3.6/site-packages/sklearn/metrics/classification.py:1113: UndefinedMetricWarning: Precision is ill-defined and being set to 0.0 due to no predicted samples.\n",
      "  'precision', 'predicted', average, warn_for)\n",
      "/anaconda/envs/python3/lib/python3.6/site-packages/sklearn/metrics/classification.py:1113: UndefinedMetricWarning: Precision is ill-defined and being set to 0.0 due to no predicted samples.\n",
      "  'precision', 'predicted', average, warn_for)\n",
      "/anaconda/envs/python3/lib/python3.6/site-packages/sklearn/metrics/classification.py:1113: UndefinedMetricWarning: Precision is ill-defined and being set to 0.0 due to no predicted samples.\n",
      "  'precision', 'predicted', average, warn_for)\n"
     ]
    }
   ],
   "source": [
    "roc_all = []\n",
    "prec_all = []\n",
    "rec_all = []\n",
    "for g in np.linspace(0, 1, 100):\n",
    "    if g == 0:\n",
    "        continue\n",
    "    else:\n",
    "        clf = svm.SVC(kernel = 'rbf', gamma = g)\n",
    "        roc_cv = cross_val_score(clf, np.array(list(database.values())), y, cv=10, scoring=\"roc_auc\")\n",
    "        prec = cross_val_score(clf, np.array(list(database.values())), y, cv=10, scoring=\"precision\")\n",
    "        rec = cross_val_score(clf, np.array(list(database.values())), y, cv=10, scoring=\"recall\")\n",
    "        roc_all.append(roc_cv.mean())\n",
    "        prec_all.append(prec.mean())\n",
    "        rec_all.append(rec.mean())"
   ]
  },
  {
   "cell_type": "code",
   "execution_count": 46,
   "metadata": {},
   "outputs": [
    {
     "data": {
      "text/plain": [
       "<matplotlib.legend.Legend at 0x122f68978>"
      ]
     },
     "execution_count": 46,
     "metadata": {},
     "output_type": "execute_result"
    },
    {
     "data": {
      "image/png": "[encoded data removed]",
      "text/plain": [
       "<matplotlib.figure.Figure at 0x1231dae80>"
      ]
     },
     "metadata": {},
     "output_type": "display_data"
    }
   ],
   "source": [
    "plt.figure().set_size_inches(8, 6)\n",
    "plt.plot(np.linspace(0, 1, 100)[1:], roc_all, 'r', label=\"AUC\")\n",
    "plt.plot(np.linspace(0, 1, 100)[1:], prec_all, 'b', label=\"Precision\") \n",
    "plt.plot(np.linspace(0, 1, 100)[1:], rec_all, 'g', label='Recall')\n",
    "plt.ylabel('Score')\n",
    "plt.xlabel('Gamma')\n",
    "plt.title('10-CV Score Plot', fontsize=10)\n",
    "plt.legend()"
   ]
  },
  {
   "cell_type": "code",
   "execution_count": 47,
   "metadata": {},
   "outputs": [],
   "source": [
    "roc_all_2 = []\n",
    "prec_all_2 = []\n",
    "rec_all_2 = []\n",
    "for g in np.linspace(0, 0.1, 100):\n",
    "    if g == 0:\n",
    "        continue\n",
    "    else:\n",
    "        clf = svm.SVC(kernel = 'rbf', gamma = g)\n",
    "        roc_cv = cross_val_score(clf, np.array(list(database.values())), y, cv=10, scoring=\"roc_auc\")\n",
    "        prec = cross_val_score(clf, np.array(list(database.values())), y, cv=10, scoring=\"precision\")\n",
    "        rec = cross_val_score(clf, np.array(list(database.values())), y, cv=10, scoring=\"recall\")\n",
    "        roc_all_2.append(roc_cv.mean())\n",
    "        prec_all_2.append(prec.mean())\n",
    "        rec_all_2.append(rec.mean())"
   ]
  },
  {
   "cell_type": "code",
   "execution_count": 48,
   "metadata": {},
   "outputs": [
    {
     "data": {
      "text/plain": [
       "<matplotlib.legend.Legend at 0x1231cda20>"
      ]
     },
     "execution_count": 48,
     "metadata": {},
     "output_type": "execute_result"
    },
    {
     "data": {
      "image/png": "[encoded data removed]",
      "text/plain": [
       "<matplotlib.figure.Figure at 0x1291793c8>"
      ]
     },
     "metadata": {},
     "output_type": "display_data"
    }
   ],
   "source": [
    "plt.figure().set_size_inches(8, 6)\n",
    "plt.plot(np.linspace(0, 0.1, 100)[1:], roc_all_2, 'r', label=\"AUC\")\n",
    "plt.plot(np.linspace(0, 0.1, 100)[1:], prec_all_2, 'b', label=\"Precision\") \n",
    "plt.plot(np.linspace(0, 0.1, 100)[1:], rec_all_2, 'g', label='Recall')\n",
    "plt.ylabel('Score')\n",
    "plt.xlabel('Gamma')\n",
    "plt.title('10-CV Score Plot', fontsize=10)\n",
    "plt.legend()"
   ]
  },
  {
   "cell_type": "markdown",
   "metadata": {},
   "source": [
    "RBF's default gamma value is 1/n_samples. it looks like that's the right value to choose, so we go with that default setting"
   ]
  },
  {
   "cell_type": "markdown",
   "metadata": {},
   "source": [
    "## Final SVM Result"
   ]
  },
  {
   "cell_type": "code",
   "execution_count": 49,
   "metadata": {},
   "outputs": [
    {
     "name": "stdout",
     "output_type": "stream",
     "text": [
      "linear\n",
      "Score by Class [0]   [1]\n",
      "[ 0.69339623  0.59701493]\n",
      "[ 0.5212766   0.75471698]\n",
      "\n",
      "Average\n",
      "0.597014925373\n",
      "0.754716981132\n",
      "\n",
      "\n",
      "rbf\n",
      "Score by Class [0]   [1]\n",
      "[ 0.75784753  0.65123457]\n",
      "[ 0.59929078  0.79622642]\n",
      "\n",
      "Average\n",
      "0.651234567901\n",
      "0.796226415094\n",
      "\n",
      "\n"
     ]
    }
   ],
   "source": [
    "for j in ['linear', 'rbf']:\n",
    "    print(j)\n",
    "    clf = svm.SVC(kernel = j)\n",
    "    clf.fit(np.array(list(database.values())), y)\n",
    "    pred_label = clf.predict(np.array(list(queryHist.values())))\n",
    "    true_label = []\n",
    "    for i in queryHist:\n",
    "        true_label.append(int(labels[labels.Image == i].Label))\n",
    "    print('Score by Class [0]   [1]')\n",
    "    print(precision_score(true_label, pred_label, average=None))\n",
    "    print(recall_score(true_label, pred_label, average=None))\n",
    "    print()\n",
    "    print('Average')\n",
    "    print(precision_score(true_label, pred_label))\n",
    "    print(recall_score(true_label, pred_label))\n",
    "    print()\n",
    "    print()"
   ]
  }
 ],
 "metadata": {
  "kernelspec": {
   "display_name": "Python 3",
   "language": "python",
   "name": "python3"
  },
  "language_info": {
   "codemirror_mode": {
    "name": "ipython",
    "version": 3
   },
   "file_extension": ".py",
   "mimetype": "text/x-python",
   "name": "python",
   "nbconvert_exporter": "python",
   "pygments_lexer": "ipython3",
   "version": "3.6.1"
  }
 },
 "nbformat": 4,
 "nbformat_minor": 2
}
