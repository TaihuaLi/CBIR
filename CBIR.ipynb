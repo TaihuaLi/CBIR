{
 "cells": [
  {
   "cell_type": "code",
   "execution_count": 1,
   "metadata": {},
   "outputs": [
    {
     "name": "stderr",
     "output_type": "stream",
     "text": [
      "/anaconda/envs/python3/lib/python3.6/site-packages/sklearn/cross_validation.py:44: DeprecationWarning: This module was deprecated in version 0.18 in favor of the model_selection module into which all the refactored classes and functions are moved. Also note that the interface of the new CV iterators are different from that of this module. This module will be removed in 0.20.\n",
      "  \"This module will be removed in 0.20.\", DeprecationWarning)\n",
      "/anaconda/envs/python3/lib/python3.6/site-packages/sklearn/grid_search.py:43: DeprecationWarning: This module was deprecated in version 0.18 in favor of the model_selection module into which all the refactored classes and functions are moved. This module will be removed in 0.20.\n",
      "  DeprecationWarning)\n"
     ]
    }
   ],
   "source": [
    "import numpy as np \n",
    "import pandas as pd\n",
    "import os, dicom, fnmatch, random, time, cv2\n",
    "\n",
    "from sklearn import svm\n",
    "from sklearn.metrics import precision_score, recall_score\n",
    "from sklearn.cluster import KMeans\n",
    "from scipy.spatial.distance import cityblock\n",
    "from scipy.spatial.distance import euclidean\n",
    "from scipy.stats import entropy \n",
    "\n",
    "from sklearn.grid_search import GridSearchCV\n",
    "\n",
    "import matplotlib.pyplot as plt\n",
    "%matplotlib inline"
   ]
  },
  {
   "cell_type": "code",
   "execution_count": 2,
   "metadata": {
    "collapsed": true
   },
   "outputs": [],
   "source": [
    "def chisquaredist(array1, array2):\n",
    "    if len(array1) != len(array2):\n",
    "        raise ValueError('Input arrays need to be the same size.')\n",
    "    return sum([ ( (array1[i] - array2[i]) ** 2 ) / (array1[i] + array2[i]) for i in range(len(array1))])\n",
    "\n",
    "def getFile(directory, ftype):\n",
    "    matches = []\n",
    "    for root, dirnames, filenames in os.walk(directory):\n",
    "        for filename in fnmatch.filter(filenames, '*.'+ftype):\n",
    "            matches.append(os.path.join(root, filename))\n",
    "    return matches\n",
    "\n",
    "def evalClustering(data, min_clust=2, max_clust=31):\n",
    "    sil_score = []\n",
    "    for n in range(min_clust, max_clust):\n",
    "        kmeans = KMeans(n_clusters = n, random_state = 10)\n",
    "        clt_lab = kmeans.fit_predict(data)\n",
    "        sil_avg = silhouette_score(data, clt_lab)\n",
    "        print('for {} clusters, sil score is {}'.format(n, sil_avg))\n",
    "        sil_score.append(sil_avg)\n",
    "    \n",
    "    plt.plot(range(min_clust, max_clust), sil_score)\n",
    "    plt.title('Average Silhouette Score Scree Plot', fontsize=14)\n",
    "    ax = plt.axes()\n",
    "    ax.set_xticks(range(min_clust, max_clust, round((max_clust-min_clust)/10)))\n",
    "    ax.set_xlabel('Number of clusters (K)')\n",
    "    ax.set_ylabel('Average Silhouette Score')\n",
    "    return sil_score\n",
    "\n",
    "def transformImg(features, centers):\n",
    "    '''\n",
    "    * features is a dictionary\n",
    "    * centers is np array\n",
    "    '''\n",
    "    img_hist = {}\n",
    "    for i in features:\n",
    "        hist = np.zeros(len(centers))\n",
    "        feat = features[i]['features']\n",
    "        for f in feat:\n",
    "            temp_sim = []\n",
    "            for center in centers:\n",
    "                temp_sim.append(euclidean(f, center))\n",
    "            hist[temp_sim.index(max(temp_sim))] += 1\n",
    "        img_hist[i] = hist\n",
    "    return img_hist\n",
    "\n",
    "def retrieve(train, test, labels):\n",
    "    '''\n",
    "    input two histogram represented dataset\n",
    "    output L1, chi, kL results\n",
    "    '''\n",
    "    L1_results = {}\n",
    "    chi_results = {}\n",
    "    KL_results = {}\n",
    "    for i in [1, 0]:\n",
    "        L1_results[i] = []\n",
    "        chi_results[i] = []\n",
    "        KL_results[i] = []\n",
    "    db_labels = [int(labels[labels.Image == i].Label) for i in train]\n",
    "    for i in test:\n",
    "        L1_r = []\n",
    "        chi_r = []\n",
    "        KL_r = []\n",
    "        for j in train:\n",
    "            query_hist = test[i]\n",
    "            db_hist = train[j]\n",
    "            L1_r.append(cityblock(query_hist, db_hist))\n",
    "            chi_r.append(chisquaredist(query_hist, db_hist))\n",
    "            KL_r.append(entropy(query_hist, db_hist))\n",
    "        L1_output = [x for (y, x) in sorted(zip(L1_r, db_labels))]\n",
    "        chi_output = [x for (y, x) in sorted(zip(chi_r, db_labels))]\n",
    "        KL_output = [x for (y, x) in sorted(zip([1 if x == float('inf') else x for x in KL_r], db_labels))]\n",
    "        \n",
    "        curr_label = int(labels[labels.Image == i].Label)\n",
    "        L1_results[curr_label].append(L1_output)\n",
    "        chi_results[curr_label].append(chi_output)\n",
    "        KL_results[curr_label].append(KL_output)\n",
    "        \n",
    "    return L1_results, chi_results, KL_results\n",
    "\n",
    "def evaluate(d):\n",
    "    MAP = {}\n",
    "    MAR = {}\n",
    "    for i in d:\n",
    "        MAP[i], MAR[i] = [], []\n",
    "    for i in d:\n",
    "        map_temp = []\n",
    "        mar_temp = []\n",
    "        for j in d[i]:\n",
    "            tp, fp, temp_pre, temp_rec = 0, 0, [], []\n",
    "            for out in j:\n",
    "                if out == i:\n",
    "                    tp += 1\n",
    "                else:\n",
    "                    fp += 1\n",
    "                temp_pre.append(tp/(tp+fp))\n",
    "                temp_rec.append(tp/len(j))\n",
    "            map_temp.append(mean(temp_pre))\n",
    "            mar_temp.append(mean(temp_rec))\n",
    "        MAP[i] = mean(map_temp)\n",
    "        MAR[i] = mean(mar_temp)\n",
    "    return MAP, MAR\n",
    "\n",
    "def displayResults(P, R):\n",
    "    to_display, p, r = [], [], []\n",
    "    for (k, v), (k2, v2) in zip(P.items(), R.items()):\n",
    "        to_display.append([k, v, v2])\n",
    "        p.append(v)\n",
    "        r.append(v2)\n",
    "    to_display.append(['Average', mean(p), mean(r)])\n",
    "    return pd.DataFrame(to_display, columns=['Type', 'Precision', 'Recall'])\n",
    "\n",
    "def mean(arr):\n",
    "    return sum(arr)/len(arr)"
   ]
  },
  {
   "cell_type": "code",
   "execution_count": 3,
   "metadata": {
    "collapsed": true
   },
   "outputs": [],
   "source": [
    "labels = pd.read_excel('LIDC_Label.xlsx')\n",
    "with_nod = labels[labels.Label == 1]\n",
    "without_nod = labels[labels.Label == 0]"
   ]
  },
  {
   "cell_type": "code",
   "execution_count": 4,
   "metadata": {},
   "outputs": [
    {
     "name": "stdout",
     "output_type": "stream",
     "text": [
      "883\n",
      "9469\n"
     ]
    }
   ],
   "source": [
    "print(with_nod.shape[0])\n",
    "print(without_nod.shape[0])"
   ]
  },
  {
   "cell_type": "markdown",
   "metadata": {},
   "source": [
    "#### Split [training (70%) and testing (30%)] (90%) and validation (10%)"
   ]
  },
  {
   "cell_type": "code",
   "execution_count": 38,
   "metadata": {},
   "outputs": [
    {
     "name": "stdout",
     "output_type": "stream",
     "text": [
      "88\n",
      "795\n",
      "556\n",
      "239\n"
     ]
    }
   ],
   "source": [
    "valid = round(883*0.1)\n",
    "print(valid)\n",
    "rest = 883-valid\n",
    "print(rest)\n",
    "train = round(rest*0.7)\n",
    "print(train)\n",
    "print(rest-train)"
   ]
  },
  {
   "cell_type": "code",
   "execution_count": 47,
   "metadata": {},
   "outputs": [
    {
     "name": "stdout",
     "output_type": "stream",
     "text": [
      "90\n",
      "810\n",
      "567\n",
      "243\n"
     ]
    }
   ],
   "source": [
    "valid = round(900*0.1)\n",
    "print(valid)\n",
    "rest = 900-valid\n",
    "print(rest)\n",
    "train = round(rest*0.7)\n",
    "print(train)\n",
    "print(rest-train)"
   ]
  },
  {
   "cell_type": "code",
   "execution_count": 39,
   "metadata": {
    "collapsed": true
   },
   "outputs": [],
   "source": [
    "nod = with_nod.Image.values\n",
    "no_nod = without_nod.Image.values"
   ]
  },
  {
   "cell_type": "code",
   "execution_count": 43,
   "metadata": {},
   "outputs": [],
   "source": [
    "nod_train = random.sample(list(nod), 556)\n",
    "nod_query = random.sample(list(set(nod) - set(nod_train)), 239)\n",
    "nod_valid = list(set(nod) - set(nod_train) - set(nod_query))"
   ]
  },
  {
   "cell_type": "code",
   "execution_count": 46,
   "metadata": {},
   "outputs": [
    {
     "name": "stdout",
     "output_type": "stream",
     "text": [
      "883\n"
     ]
    }
   ],
   "source": [
    "print(len(set(nod_train))+ len(set(nod_query))+ len(set(nod_valid)))"
   ]
  },
  {
   "cell_type": "markdown",
   "metadata": {},
   "source": [
    "### Save params"
   ]
  },
  {
   "cell_type": "code",
   "execution_count": 76,
   "metadata": {
    "collapsed": true
   },
   "outputs": [],
   "source": [
    "np.save(\"var/nod_train.npy\", nod_train)\n",
    "np.save('var/nod_query.npy', nod_query)\n",
    "np.save('var/nod_valid.npy', nod_valid)"
   ]
  },
  {
   "cell_type": "code",
   "execution_count": 48,
   "metadata": {},
   "outputs": [
    {
     "name": "stdout",
     "output_type": "stream",
     "text": [
      "900\n"
     ]
    }
   ],
   "source": [
    "no_nod_subset = []\n",
    "by_patient = {}\n",
    "for dcm in no_nod:\n",
    "    if dcm[20:24] not in by_patient:\n",
    "        by_patient[dcm[20:24]] = []\n",
    "        by_patient[dcm[20:24]].append(dcm)\n",
    "    else:\n",
    "        by_patient[dcm[20:24]].append(dcm)\n",
    "for i in by_patient:\n",
    "    no_nod_subset+= random.sample(by_patient[i], 15)\n",
    "print(len(no_nod_subset))"
   ]
  },
  {
   "cell_type": "code",
   "execution_count": 49,
   "metadata": {},
   "outputs": [
    {
     "data": {
      "text/plain": [
       "'LIDC-IDRI/LIDC-IDRI-0001/1.3.6.1.4.1.14519.5.2.1.6279.6001.298806137288633453246975630178/1.3.6.1.4.1.14519.5.2.1.6279.6001.179049373636438705059720603192/000096.dcm'"
      ]
     },
     "execution_count": 49,
     "metadata": {},
     "output_type": "execute_result"
    }
   ],
   "source": [
    "no_nod_subset[0]"
   ]
  },
  {
   "cell_type": "code",
   "execution_count": 52,
   "metadata": {},
   "outputs": [],
   "source": [
    "no_nod_subset_train = random.sample(no_nod_subset, 567)\n",
    "no_nod_subset_query = random.sample(list(set(no_nod_subset) - set(no_nod_subset_train)), 243)\n",
    "no_nod_subset_valid = list(set(no_nod_subset) - set(no_nod_subset_query) - set(no_nod_subset_train))"
   ]
  },
  {
   "cell_type": "markdown",
   "metadata": {},
   "source": [
    "### Save params"
   ]
  },
  {
   "cell_type": "code",
   "execution_count": 77,
   "metadata": {
    "collapsed": true
   },
   "outputs": [],
   "source": [
    "np.save('var/no_nod_subset.npy', no_nod_subset)\n",
    "np.save(\"var/no_nod_subset_train.npy\", no_nod_subset_train)\n",
    "np.save('var/no_nod_subset_query.npy', no_nod_subset_query)\n",
    "np.save('var/no_nod_subset_valid.npy', no_nod_subset_valid)"
   ]
  },
  {
   "cell_type": "code",
   "execution_count": 55,
   "metadata": {},
   "outputs": [
    {
     "name": "stdout",
     "output_type": "stream",
     "text": [
      "900\n"
     ]
    }
   ],
   "source": [
    "print(len(set(no_nod_subset_train))+len(set(no_nod_subset_query))+len(set(no_nod_subset_valid)))"
   ]
  },
  {
   "cell_type": "code",
   "execution_count": 56,
   "metadata": {},
   "outputs": [
    {
     "name": "stdout",
     "output_type": "stream",
     "text": [
      "Nodule training: 556\n",
      "Nodule query: 239\n",
      "Nodule validation: 88\n",
      "No nodule training: 567\n",
      "No nodule query: 243\n",
      "No nodule validation: 90\n"
     ]
    }
   ],
   "source": [
    "print(\"Nodule training: {}\".format(len(nod_train)))\n",
    "print(\"Nodule query: {}\".format(len(nod_query)))\n",
    "print(\"Nodule validation: {}\".format(len(nod_valid)))\n",
    "print(\"No nodule training: {}\".format(len(no_nod_subset_train)))\n",
    "print(\"No nodule query: {}\".format(len(no_nod_subset_query)))\n",
    "print(\"No nodule validation: {}\".format(len(no_nod_subset_valid)))"
   ]
  },
  {
   "cell_type": "code",
   "execution_count": 57,
   "metadata": {
    "collapsed": true
   },
   "outputs": [],
   "source": [
    "nod_train = [x.replace('.dcm', '.jpg') for x in nod_train]"
   ]
  },
  {
   "cell_type": "code",
   "execution_count": 72,
   "metadata": {
    "collapsed": true
   },
   "outputs": [],
   "source": [
    "train = [x.replace('.jpg', '.dcm') for x in nod_train] + no_nod_subset_train\n",
    "query = nod_query + no_nod_subset_query\n",
    "valid = nod_valid + no_nod_subset_valid"
   ]
  },
  {
   "cell_type": "code",
   "execution_count": 73,
   "metadata": {},
   "outputs": [
    {
     "data": {
      "text/plain": [
       "178"
      ]
     },
     "execution_count": 73,
     "metadata": {},
     "output_type": "execute_result"
    }
   ],
   "source": [
    "len(valid)"
   ]
  },
  {
   "cell_type": "markdown",
   "metadata": {},
   "source": [
    "### Save params"
   ]
  },
  {
   "cell_type": "code",
   "execution_count": 78,
   "metadata": {
    "collapsed": true
   },
   "outputs": [],
   "source": [
    "np.save('var/train.npy', train)\n",
    "np.save('var/query.npy', query)\n",
    "np.save('var/valid.npy', valid)"
   ]
  },
  {
   "cell_type": "markdown",
   "metadata": {},
   "source": [
    "#### Generate SIFT"
   ]
  },
  {
   "cell_type": "markdown",
   "metadata": {},
   "source": [
    "##### With nodules"
   ]
  },
  {
   "cell_type": "code",
   "execution_count": 59,
   "metadata": {},
   "outputs": [
    {
     "data": {
      "text/plain": [
       "<matplotlib.image.AxesImage at 0x125aa4a58>"
      ]
     },
     "execution_count": 59,
     "metadata": {},
     "output_type": "execute_result"
    },
    {
     "data": {
      "image/png": "[encoded data removed]",
      "text/plain": [
       "<matplotlib.figure.Figure at 0x123513128>"
      ]
     },
     "metadata": {},
     "output_type": "display_data"
    }
   ],
   "source": [
    "plt.imshow(cv2.cvtColor(cv2.imread(nod_train[0]), cv2.COLOR_BGR2GRAY), cmap='gray')"
   ]
  },
  {
   "cell_type": "code",
   "execution_count": 60,
   "metadata": {},
   "outputs": [
    {
     "name": "stdout",
     "output_type": "stream",
     "text": [
      "Time taken: 0.38730430603027344 seconds\n"
     ]
    }
   ],
   "source": [
    "start = time.time()\n",
    "SIFT = {}\n",
    "for nod in nod_train:\n",
    "    image = cv2.cvtColor(cv2.imread(nod), cv2.COLOR_BGR2GRAY)\n",
    "    sift = cv2.xfeatures2d.SIFT_create(nfeatures = 400)\n",
    "    kp, feat = sift.detectAndCompute(image, None)\n",
    "    SIFT[nod] = {}\n",
    "    SIFT[nod]['keypoints'] = kp\n",
    "    SIFT[nod]['features'] = feat\n",
    "end = time.time()\n",
    "print('Time taken: {} seconds'.format(end-start))"
   ]
  },
  {
   "cell_type": "markdown",
   "metadata": {},
   "source": [
    "##### Without nodules"
   ]
  },
  {
   "cell_type": "code",
   "execution_count": 61,
   "metadata": {},
   "outputs": [
    {
     "name": "stdout",
     "output_type": "stream",
     "text": [
      "Time taken: 75.89384317398071 seconds\n"
     ]
    }
   ],
   "source": [
    "start = time.time()\n",
    "for dcm in no_nod_subset_train:\n",
    "    dicom_file = dicom.read_file(dcm)\n",
    "    CT = 255-cv2.convertScaleAbs(dicom_file.pixel_array)\n",
    "    sift = cv2.xfeatures2d.SIFT_create(nfeatures = 400)\n",
    "    kp, feat = sift.detectAndCompute(np.uint8(CT), None)\n",
    "    SIFT[dcm] = {}\n",
    "    SIFT[dcm]['keypoints'] = kp\n",
    "    SIFT[dcm]['features'] = feat\n",
    "end = time.time()\n",
    "print('Time taken: {} seconds'.format(end-start))"
   ]
  },
  {
   "cell_type": "markdown",
   "metadata": {},
   "source": [
    "##### Aggregate"
   ]
  },
  {
   "cell_type": "code",
   "execution_count": 62,
   "metadata": {
    "collapsed": true,
    "scrolled": true
   },
   "outputs": [],
   "source": [
    "SIFT_feat = np.empty((1, 128))\n",
    "no_SIFT_feat = 0\n",
    "no_SIFT_slices = []\n",
    "for i in SIFT:\n",
    "    try:\n",
    "        SIFT_feat = np.concatenate([SIFT_feat, SIFT[i]['features']])\n",
    "    except:\n",
    "        no_SIFT_slices.append(i)\n",
    "        no_SIFT_feat+=1\n",
    "        continue\n",
    "SIFT_feat = np.delete(SIFT_feat, 0, 0)"
   ]
  },
  {
   "cell_type": "code",
   "execution_count": 63,
   "metadata": {},
   "outputs": [
    {
     "name": "stdout",
     "output_type": "stream",
     "text": [
      "197 nodules do not have SIFT features.\n"
     ]
    }
   ],
   "source": [
    "print('{} nodules do not have SIFT features.'.format(no_SIFT_feat))"
   ]
  },
  {
   "cell_type": "code",
   "execution_count": 64,
   "metadata": {},
   "outputs": [
    {
     "data": {
      "text/plain": [
       "(228277, 128)"
      ]
     },
     "execution_count": 64,
     "metadata": {},
     "output_type": "execute_result"
    }
   ],
   "source": [
    "SIFT_feat.shape"
   ]
  },
  {
   "cell_type": "code",
   "execution_count": 65,
   "metadata": {
    "collapsed": true
   },
   "outputs": [],
   "source": [
    "np.savetxt('to_clust.csv', SIFT_feat, delimiter = ',')"
   ]
  },
  {
   "cell_type": "markdown",
   "metadata": {},
   "source": [
    "### All training and query images (whole CT scans for those having nodules)"
   ]
  },
  {
   "cell_type": "code",
   "execution_count": 66,
   "metadata": {},
   "outputs": [
    {
     "name": "stdout",
     "output_type": "stream",
     "text": [
      "Time taken: 247.00978589057922 seconds\n"
     ]
    }
   ],
   "source": [
    "train_images = {}\n",
    "start = time.time()\n",
    "for dcm in train:\n",
    "    dicom_file = dicom.read_file(dcm)\n",
    "    CT = 255-cv2.convertScaleAbs(dicom_file.pixel_array)\n",
    "    sift = cv2.xfeatures2d.SIFT_create(nfeatures = 400)\n",
    "    kp, feat = sift.detectAndCompute(np.uint8(CT), None)\n",
    "    train_images[dcm] = {}\n",
    "    train_images[dcm]['keypoints'] = kp\n",
    "    train_images[dcm]['features'] = feat\n",
    "end = time.time()\n",
    "print('Time taken: {} seconds'.format(end-start))"
   ]
  },
  {
   "cell_type": "code",
   "execution_count": 67,
   "metadata": {},
   "outputs": [
    {
     "data": {
      "text/plain": [
       "1123"
      ]
     },
     "execution_count": 67,
     "metadata": {},
     "output_type": "execute_result"
    }
   ],
   "source": [
    "len(train_images.keys())"
   ]
  },
  {
   "cell_type": "code",
   "execution_count": 68,
   "metadata": {},
   "outputs": [
    {
     "name": "stdout",
     "output_type": "stream",
     "text": [
      "Time taken: 99.57313203811646 seconds\n"
     ]
    }
   ],
   "source": [
    "query_images = {}\n",
    "start = time.time()\n",
    "for dcm in query:\n",
    "    dicom_file = dicom.read_file(dcm)\n",
    "    CT = 255-cv2.convertScaleAbs(dicom_file.pixel_array)\n",
    "    sift = cv2.xfeatures2d.SIFT_create(nfeatures = 400)\n",
    "    kp, feat = sift.detectAndCompute(np.uint8(CT), None)\n",
    "    query_images[dcm] = {}\n",
    "    query_images[dcm]['keypoints'] = kp\n",
    "    query_images[dcm]['features'] = feat\n",
    "end = time.time()\n",
    "print('Time taken: {} seconds'.format(end-start))"
   ]
  },
  {
   "cell_type": "code",
   "execution_count": 69,
   "metadata": {},
   "outputs": [
    {
     "data": {
      "text/plain": [
       "482"
      ]
     },
     "execution_count": 69,
     "metadata": {},
     "output_type": "execute_result"
    }
   ],
   "source": [
    "len(query_images.keys())"
   ]
  },
  {
   "cell_type": "markdown",
   "metadata": {},
   "source": [
    "### Clustering (local)"
   ]
  },
  {
   "cell_type": "code",
   "execution_count": null,
   "metadata": {
    "scrolled": true
   },
   "outputs": [],
   "source": [
    "# sil_score = evalClustering(SIFT_feat, max_clust=31)"
   ]
  },
  {
   "cell_type": "code",
   "execution_count": null,
   "metadata": {
    "collapsed": true
   },
   "outputs": [],
   "source": [
    "# kmeans = KMeans(n_clusters=7, random_state=10).fit(SIFT_feat)\n",
    "# centers = kmeans.cluster_centers_"
   ]
  },
  {
   "cell_type": "code",
   "execution_count": null,
   "metadata": {},
   "outputs": [],
   "source": [
    "# np.bincount(kmeans.labels_)"
   ]
  },
  {
   "cell_type": "markdown",
   "metadata": {},
   "source": [
    "### Cluster Center From Spark"
   ]
  },
  {
   "cell_type": "code",
   "execution_count": 70,
   "metadata": {
    "collapsed": true
   },
   "outputs": [],
   "source": [
    "centers = np.load('var/cluster_centers.npy')"
   ]
  },
  {
   "cell_type": "markdown",
   "metadata": {},
   "source": [
    "### Transform Images"
   ]
  },
  {
   "cell_type": "code",
   "execution_count": 74,
   "metadata": {},
   "outputs": [
    {
     "ename": "KeyboardInterrupt",
     "evalue": "",
     "output_type": "error",
     "traceback": [
      "\u001b[0;31m---------------------------------------------------------------------------\u001b[0m",
      "\u001b[0;31mKeyboardInterrupt\u001b[0m                         Traceback (most recent call last)",
      "\u001b[0;32m<ipython-input-74-2e3e8cdc0556>\u001b[0m in \u001b[0;36m<module>\u001b[0;34m()\u001b[0m\n\u001b[1;32m      1\u001b[0m \u001b[0mstart\u001b[0m \u001b[0;34m=\u001b[0m \u001b[0mtime\u001b[0m\u001b[0;34m.\u001b[0m\u001b[0mtime\u001b[0m\u001b[0;34m(\u001b[0m\u001b[0;34m)\u001b[0m\u001b[0;34m\u001b[0m\u001b[0m\n\u001b[0;32m----> 2\u001b[0;31m \u001b[0mdatabase\u001b[0m \u001b[0;34m=\u001b[0m \u001b[0mtransformImg\u001b[0m\u001b[0;34m(\u001b[0m\u001b[0mtrain_images\u001b[0m\u001b[0;34m,\u001b[0m \u001b[0mcenters\u001b[0m\u001b[0;34m)\u001b[0m\u001b[0;34m\u001b[0m\u001b[0m\n\u001b[0m\u001b[1;32m      3\u001b[0m \u001b[0mend\u001b[0m \u001b[0;34m=\u001b[0m \u001b[0mtime\u001b[0m\u001b[0;34m.\u001b[0m\u001b[0mtime\u001b[0m\u001b[0;34m(\u001b[0m\u001b[0;34m)\u001b[0m\u001b[0;34m\u001b[0m\u001b[0m\n\u001b[1;32m      4\u001b[0m \u001b[0mprint\u001b[0m\u001b[0;34m(\u001b[0m\u001b[0;34m'Time taken {}'\u001b[0m\u001b[0;34m.\u001b[0m\u001b[0mformat\u001b[0m\u001b[0;34m(\u001b[0m\u001b[0mend\u001b[0m\u001b[0;34m)\u001b[0m\u001b[0;34m)\u001b[0m\u001b[0;34m\u001b[0m\u001b[0m\n",
      "\u001b[0;32m<ipython-input-2-3f9b2190ac17>\u001b[0m in \u001b[0;36mtransformImg\u001b[0;34m(features, centers)\u001b[0m\n\u001b[1;32m     40\u001b[0m             \u001b[0mtemp_sim\u001b[0m \u001b[0;34m=\u001b[0m \u001b[0;34m[\u001b[0m\u001b[0;34m]\u001b[0m\u001b[0;34m\u001b[0m\u001b[0m\n\u001b[1;32m     41\u001b[0m             \u001b[0;32mfor\u001b[0m \u001b[0mcenter\u001b[0m \u001b[0;32min\u001b[0m \u001b[0mcenters\u001b[0m\u001b[0;34m:\u001b[0m\u001b[0;34m\u001b[0m\u001b[0m\n\u001b[0;32m---> 42\u001b[0;31m                 \u001b[0mtemp_sim\u001b[0m\u001b[0;34m.\u001b[0m\u001b[0mappend\u001b[0m\u001b[0;34m(\u001b[0m\u001b[0meuclidean\u001b[0m\u001b[0;34m(\u001b[0m\u001b[0mf\u001b[0m\u001b[0;34m,\u001b[0m \u001b[0mcenter\u001b[0m\u001b[0;34m)\u001b[0m\u001b[0;34m)\u001b[0m\u001b[0;34m\u001b[0m\u001b[0m\n\u001b[0m\u001b[1;32m     43\u001b[0m             \u001b[0mhist\u001b[0m\u001b[0;34m[\u001b[0m\u001b[0mtemp_sim\u001b[0m\u001b[0;34m.\u001b[0m\u001b[0mindex\u001b[0m\u001b[0;34m(\u001b[0m\u001b[0mmax\u001b[0m\u001b[0;34m(\u001b[0m\u001b[0mtemp_sim\u001b[0m\u001b[0;34m)\u001b[0m\u001b[0;34m)\u001b[0m\u001b[0;34m]\u001b[0m \u001b[0;34m+=\u001b[0m \u001b[0;36m1\u001b[0m\u001b[0;34m\u001b[0m\u001b[0m\n\u001b[1;32m     44\u001b[0m         \u001b[0mimg_hist\u001b[0m\u001b[0;34m[\u001b[0m\u001b[0mi\u001b[0m\u001b[0;34m]\u001b[0m \u001b[0;34m=\u001b[0m \u001b[0mhist\u001b[0m\u001b[0;34m\u001b[0m\u001b[0m\n",
      "\u001b[0;32m/anaconda/envs/python3/lib/python3.6/site-packages/scipy/spatial/distance.py\u001b[0m in \u001b[0;36meuclidean\u001b[0;34m(u, v)\u001b[0m\n\u001b[1;32m    430\u001b[0m     \"\"\"\n\u001b[1;32m    431\u001b[0m     \u001b[0mu\u001b[0m \u001b[0;34m=\u001b[0m \u001b[0m_validate_vector\u001b[0m\u001b[0;34m(\u001b[0m\u001b[0mu\u001b[0m\u001b[0;34m)\u001b[0m\u001b[0;34m\u001b[0m\u001b[0m\n\u001b[0;32m--> 432\u001b[0;31m     \u001b[0mv\u001b[0m \u001b[0;34m=\u001b[0m \u001b[0m_validate_vector\u001b[0m\u001b[0;34m(\u001b[0m\u001b[0mv\u001b[0m\u001b[0;34m)\u001b[0m\u001b[0;34m\u001b[0m\u001b[0m\n\u001b[0m\u001b[1;32m    433\u001b[0m     \u001b[0mdist\u001b[0m \u001b[0;34m=\u001b[0m \u001b[0mnorm\u001b[0m\u001b[0;34m(\u001b[0m\u001b[0mu\u001b[0m \u001b[0;34m-\u001b[0m \u001b[0mv\u001b[0m\u001b[0;34m)\u001b[0m\u001b[0;34m\u001b[0m\u001b[0m\n\u001b[1;32m    434\u001b[0m     \u001b[0;32mreturn\u001b[0m \u001b[0mdist\u001b[0m\u001b[0;34m\u001b[0m\u001b[0m\n",
      "\u001b[0;32m/anaconda/envs/python3/lib/python3.6/site-packages/scipy/spatial/distance.py\u001b[0m in \u001b[0;36m_validate_vector\u001b[0;34m(u, dtype)\u001b[0m\n\u001b[1;32m    227\u001b[0m \u001b[0;32mdef\u001b[0m \u001b[0m_validate_vector\u001b[0m\u001b[0;34m(\u001b[0m\u001b[0mu\u001b[0m\u001b[0;34m,\u001b[0m \u001b[0mdtype\u001b[0m\u001b[0;34m=\u001b[0m\u001b[0;32mNone\u001b[0m\u001b[0;34m)\u001b[0m\u001b[0;34m:\u001b[0m\u001b[0;34m\u001b[0m\u001b[0m\n\u001b[1;32m    228\u001b[0m     \u001b[0;31m# XXX Is order='c' really necessary?\u001b[0m\u001b[0;34m\u001b[0m\u001b[0;34m\u001b[0m\u001b[0m\n\u001b[0;32m--> 229\u001b[0;31m     \u001b[0mu\u001b[0m \u001b[0;34m=\u001b[0m \u001b[0mnp\u001b[0m\u001b[0;34m.\u001b[0m\u001b[0masarray\u001b[0m\u001b[0;34m(\u001b[0m\u001b[0mu\u001b[0m\u001b[0;34m,\u001b[0m \u001b[0mdtype\u001b[0m\u001b[0;34m=\u001b[0m\u001b[0mdtype\u001b[0m\u001b[0;34m,\u001b[0m \u001b[0morder\u001b[0m\u001b[0;34m=\u001b[0m\u001b[0;34m'c'\u001b[0m\u001b[0;34m)\u001b[0m\u001b[0;34m.\u001b[0m\u001b[0msqueeze\u001b[0m\u001b[0;34m(\u001b[0m\u001b[0;34m)\u001b[0m\u001b[0;34m\u001b[0m\u001b[0m\n\u001b[0m\u001b[1;32m    230\u001b[0m     \u001b[0;31m# Ensure values such as u=1 and u=[1] still return 1-D arrays.\u001b[0m\u001b[0;34m\u001b[0m\u001b[0;34m\u001b[0m\u001b[0m\n\u001b[1;32m    231\u001b[0m     \u001b[0mu\u001b[0m \u001b[0;34m=\u001b[0m \u001b[0mnp\u001b[0m\u001b[0;34m.\u001b[0m\u001b[0matleast_1d\u001b[0m\u001b[0;34m(\u001b[0m\u001b[0mu\u001b[0m\u001b[0;34m)\u001b[0m\u001b[0;34m\u001b[0m\u001b[0m\n",
      "\u001b[0;31mKeyboardInterrupt\u001b[0m: "
     ]
    }
   ],
   "source": [
    "start = time.time()\n",
    "database = transformImg(train_images, centers)\n",
    "end = time.time()\n",
    "print('Time taken {}'.format(end))"
   ]
  },
  {
   "cell_type": "code",
   "execution_count": null,
   "metadata": {},
   "outputs": [],
   "source": [
    "len(database.keys())"
   ]
  },
  {
   "cell_type": "code",
   "execution_count": null,
   "metadata": {
    "collapsed": true
   },
   "outputs": [],
   "source": [
    "queryHist = transformImg(query_images, centers)"
   ]
  },
  {
   "cell_type": "code",
   "execution_count": null,
   "metadata": {},
   "outputs": [],
   "source": [
    "len(queryHist.keys())"
   ]
  },
  {
   "cell_type": "code",
   "execution_count": null,
   "metadata": {
    "collapsed": true
   },
   "outputs": [],
   "source": [
    "validHist = transformImg(valid)"
   ]
  },
  {
   "cell_type": "code",
   "execution_count": null,
   "metadata": {
    "collapsed": true
   },
   "outputs": [],
   "source": []
  },
  {
   "cell_type": "code",
   "execution_count": null,
   "metadata": {},
   "outputs": [],
   "source": [
    "labels.head()"
   ]
  },
  {
   "cell_type": "code",
   "execution_count": null,
   "metadata": {},
   "outputs": [],
   "source": [
    "L1_labels, chi_labels, KL_labels = retrieve(database, queryHist, labels)"
   ]
  },
  {
   "cell_type": "code",
   "execution_count": null,
   "metadata": {
    "scrolled": true
   },
   "outputs": [],
   "source": [
    "L1_labels.keys()"
   ]
  },
  {
   "cell_type": "code",
   "execution_count": null,
   "metadata": {
    "collapsed": true
   },
   "outputs": [],
   "source": [
    "L1_MAP, L1_MAR = evaluate(L1_labels)\n",
    "chi_MAP, chi_MAR = evaluate(chi_labels)\n",
    "KL_MAP, KL_MAR = evaluate(KL_labels)"
   ]
  },
  {
   "cell_type": "code",
   "execution_count": null,
   "metadata": {},
   "outputs": [],
   "source": [
    "displayResults(L1_MAP, L1_MAR)"
   ]
  },
  {
   "cell_type": "code",
   "execution_count": null,
   "metadata": {},
   "outputs": [],
   "source": [
    "displayResults(chi_MAP, chi_MAR)"
   ]
  },
  {
   "cell_type": "code",
   "execution_count": null,
   "metadata": {},
   "outputs": [],
   "source": [
    "displayResults(KL_MAP, KL_MAR)"
   ]
  },
  {
   "cell_type": "markdown",
   "metadata": {
    "collapsed": true
   },
   "source": [
    "#### Try SVM"
   ]
  },
  {
   "cell_type": "code",
   "execution_count": null,
   "metadata": {
    "collapsed": true
   },
   "outputs": [],
   "source": [
    "y = []\n",
    "for i in database:\n",
    "    y.append(int(labels[labels.Image == i].Label))"
   ]
  },
  {
   "cell_type": "markdown",
   "metadata": {},
   "source": [
    "'kernel': [\"linear\", \"poly\", \"rbf\", \"sigmoid\"]"
   ]
  },
  {
   "cell_type": "code",
   "execution_count": null,
   "metadata": {},
   "outputs": [],
   "source": [
    "for j in ['linear', 'poly', 'rbf', 'sigmoid']:\n",
    "    print(j)\n",
    "    clf = svm.SVC(kernel = j)\n",
    "    clf.fit(np.array(list(database.values())), y)\n",
    "    pred_label = clf.predict(np.array(list(queryHist.values())))\n",
    "    true_label = []\n",
    "    for i in queryHist:\n",
    "        true_label.append(int(labels[labels.Image == i].Label))\n",
    "    print(precision_score(true_label, pred_label, average=None))\n",
    "    print(recall_score(true_label, pred_label, average=None))\n",
    "    print()\n",
    "    print(precision_score(true_label, pred_label))\n",
    "    print(recall_score(true_label, pred_label))\n",
    "    print()\n",
    "    print()"
   ]
  },
  {
   "cell_type": "code",
   "execution_count": null,
   "metadata": {
    "collapsed": true
   },
   "outputs": [],
   "source": [
    "print('a')"
   ]
  },
  {
   "cell_type": "code",
   "execution_count": null,
   "metadata": {
    "collapsed": true
   },
   "outputs": [],
   "source": [
    "    print(j)\n",
    "    clf = svm.SVC(kernel = j)\n",
    "    clf.fit(np.array(list(database.values())), y)\n",
    "    pred_label = clf.predict(np.array(list(queryHist.values())))\n",
    "    true_label = []\n",
    "    for i in queryHist:\n",
    "        true_label.append(int(labels[labels.Image == i].Label))\n",
    "    print(precision_score(true_label, pred_label, average=None))\n",
    "    print(recall_score(true_label, pred_label, average=None))\n",
    "    print()\n",
    "    print(precision_score(true_label, pred_label))\n",
    "    print(recall_score(true_label, pred_label))\n",
    "    print()\n",
    "    print()"
   ]
  }
 ],
 "metadata": {
  "kernelspec": {
   "display_name": "Python 3",
   "language": "python",
   "name": "python3"
  },
  "language_info": {
   "codemirror_mode": {
    "name": "ipython",
    "version": 3
   },
   "file_extension": ".py",
   "mimetype": "text/x-python",
   "name": "python",
   "nbconvert_exporter": "python",
   "pygments_lexer": "ipython3",
   "version": "3.6.1"
  }
 },
 "nbformat": 4,
 "nbformat_minor": 2
}
